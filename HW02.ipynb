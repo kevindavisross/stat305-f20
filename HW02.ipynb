{
 "cells": [
  {
   "cell_type": "markdown",
   "metadata": {},
   "source": [
    "# Stat 305 HW2, Part II"
   ]
  },
  {
   "cell_type": "markdown",
   "metadata": {},
   "source": [
    "**TYPE YOUR NAME(S) HERE.** I encourage you to work with a partner; submit one per team."
   ]
  },
  {
   "cell_type": "markdown",
   "metadata": {},
   "source": [
    "## Introduction\n",
    "\n",
    "This Colab/Jupyter notebook provides a template for you to fill in. **Read the notebook from start to finish, completing the parts as indicated.**  To run a cell, make sure the cell is highlighted by clicking on it, then press SHIFT + ENTER on your keyboard.  (Alternatively, you can click the \"play\" button.)\n",
    "\n",
    "Some code has already been provided.  Be sure to run this code and view the output to understand what it does.  In other parts, you will need to provide the code yourself; use the examples in the textbook as a guide. \n",
    "\n",
    "You will use the Python package [Symbulate](https://github.com/dlsun/symbulate).  A few specific links to the documentation are provided below.  **You should use only use Symbulate commands, not general Python code.**"
   ]
  },
  {
   "cell_type": "markdown",
   "metadata": {},
   "source": [
    "Be sure to run the following lines first."
   ]
  },
  {
   "cell_type": "code",
   "execution_count": 1,
   "metadata": {},
   "outputs": [
    {
     "name": "stdout",
     "output_type": "stream",
     "text": [
      "Requirement already satisfied: symbulate in c:\\users\\kjross\\anaconda3\\lib\\site-packages (0.5.7)\n",
      "Requirement already satisfied: numpy in c:\\users\\kjross\\anaconda3\\lib\\site-packages (from symbulate) (1.18.1)\n",
      "Requirement already satisfied: scipy in c:\\users\\kjross\\anaconda3\\lib\\site-packages (from symbulate) (1.4.1)\n",
      "Requirement already satisfied: matplotlib in c:\\users\\kjross\\anaconda3\\lib\\site-packages (from symbulate) (3.1.3)\n",
      "Requirement already satisfied: python-dateutil>=2.1 in c:\\users\\kjross\\anaconda3\\lib\\site-packages (from matplotlib->symbulate) (2.8.1)\n",
      "Requirement already satisfied: cycler>=0.10 in c:\\users\\kjross\\anaconda3\\lib\\site-packages (from matplotlib->symbulate) (0.10.0)\n",
      "Requirement already satisfied: kiwisolver>=1.0.1 in c:\\users\\kjross\\anaconda3\\lib\\site-packages (from matplotlib->symbulate) (1.1.0)\n",
      "Requirement already satisfied: pyparsing!=2.0.4,!=2.1.2,!=2.1.6,>=2.0.1 in c:\\users\\kjross\\anaconda3\\lib\\site-packages (from matplotlib->symbulate) (2.4.6)\n",
      "Requirement already satisfied: six>=1.5 in c:\\users\\kjross\\anaconda3\\lib\\site-packages (from python-dateutil>=2.1->matplotlib->symbulate) (1.14.0)\n",
      "Requirement already satisfied: setuptools in c:\\users\\kjross\\anaconda3\\lib\\site-packages (from kiwisolver>=1.0.1->matplotlib->symbulate) (45.2.0.post20200210)\n",
      "Note: you may need to restart the kernel to use updated packages.\n"
     ]
    }
   ],
   "source": [
    "pip install symbulate"
   ]
  },
  {
   "cell_type": "code",
   "execution_count": 2,
   "metadata": {},
   "outputs": [],
   "source": [
    "from symbulate import *\n",
    "%matplotlib inline"
   ]
  },
  {
   "cell_type": "markdown",
   "metadata": {},
   "source": [
    "## A few notes about Colab/Jupyter notebooks\n",
    "\n",
    "- Each cell contains either Code or text (Markdown)\n",
    "- You can run an individual cell by clicking on it and holding SHIFT-ENTER or by clicking the play button.  Any output from the cell will be displayed underneath it.\n",
    "- Cells are evaluated in the order in which you run them.  After a cell is run it should have `Out[xx]` to the left, indicating the order in which the cells were run.\n",
    "- When you select \"Run all\", cells will be evaluated in sequence starting with the first cell at the top of the notebook.\n",
    "- You can use objects evaluted in one cell in others.  Just keep in mind that cells are evaluated in order.  So if you call something `x` in one cell, but redefine `x` as something else in another cell, it's essential that you evaluate the cells in the proper order.\n",
    "- Any plots should be displayed automatically (as long as you run the `%matplotlib inline` command).\n",
    "- While all the code in a cell is evaluated, only the output of the last line of code in a cell is displayed automatically (aside from plots).  If you want to display multiple pieces of output, you can either use `print` or just add cells and put each line in a separate cell. \n",
    "- You can add cells with Insert or with the + sign on the menu,\n"
   ]
  },
  {
   "cell_type": "markdown",
   "metadata": {},
   "source": [
    "## 1. Collector problem"
   ]
  },
  {
   "cell_type": "markdown",
   "metadata": {},
   "source": [
    "Each box of a certain type of cereal contains one of $n$ distinct prizes and you want to obtain a complete set. Suppose that each box of cereal is equally likely to contain any one of the $n$ prizes, and the particular prize\n",
    "that appears in one box has no bearing on the prize that appears in another box. You purchase\n",
    "cereal boxes one box at a time until you have the complete set of $n$ prizes. \n",
    "\n",
    "Let $X$ be the total number of boxes needed to be purchased to obtain a complete set of the $n$ prizes.\n",
    "\n",
    "We will assume $n=10$.  But you can easily change this parameter to see how various quantities change.  Note: since Python uses zero-based indexing, we will label the 10 prizes 0, 1, ..., 9; `prizes` below is just a list of the prize labels."
   ]
  },
  {
   "cell_type": "code",
   "execution_count": 3,
   "metadata": {},
   "outputs": [
    {
     "data": {
      "text/plain": [
       "[0, 1, 2, 3, 4, 5, 6, 7, 8, 9]"
      ]
     },
     "execution_count": 3,
     "metadata": {},
     "output_type": "execute_result"
    }
   ],
   "source": [
    "n = 10\n",
    "prizes = list(range(n))\n",
    "prizes"
   ]
  },
  {
   "cell_type": "markdown",
   "metadata": {},
   "source": [
    "Before proceeding, make some guesses for how you would expect $X$ to behave.  What is the smallest possible value?  The largest?  What values would be more/less likely?  (Nothing to write up, it's just always a good idea to think about things before plugging away.)"
   ]
  },
  {
   "cell_type": "markdown",
   "metadata": {},
   "source": [
    "The probability space could be represented as the sequence of prizes obtained.  (In the first box I got prize 3, in the second box I got prize 1, in the third box I got prize 3 (again), etc.)  While technically you would stop buying prizes when you get a complete set, it is convenient to imagine that you keep buying boxes forever.  This way, all outcomes in the probability space would have the same \"length\".  Also, you could use such a probability space to investigate other problems too (e.g., the number of boxes purchased until $r$ complete sets are obtained, for any $r$ instead of just $r=1$).\n",
    "\n",
    "Define a probability space `P` in which an outcome corresponds to an infinite sequence of prizes.  (Hint: use [`BoxModel`](https://dlsun.github.io/symbulate/probspace.html#boxmodel) with`prizes` as the tickets and `size=inf`.  Remember `replace=True` is the default.)"
   ]
  },
  {
   "cell_type": "code",
   "execution_count": 4,
   "metadata": {},
   "outputs": [],
   "source": [
    "# Enter your Symbulate code here."
   ]
  },
  {
   "cell_type": "markdown",
   "metadata": {},
   "source": [
    "Simulate a few outcomes from `P`."
   ]
  },
  {
   "cell_type": "code",
   "execution_count": 5,
   "metadata": {},
   "outputs": [],
   "source": [
    "# Enter your Symbulate code here."
   ]
  },
  {
   "cell_type": "markdown",
   "metadata": {},
   "source": [
    "Remember that a random variable is a function defined on the probability space.  We have seen how simple built-in functions like `sum` and `max` were used to define `RV`s.  But it is also possible to program your own functions to use in defining Symbulate random variables, e.g., `X=RV(P, custom_function)`.  You just need to make sure that the function you write takes as an input an object corresponding to the output of the probability space `P`.\n",
    "\n",
    "The custom function `number_prizes_until_complete_set`, defined using Python code below, takes as an input a sequence of prizes (each prize labeled with a number 0 through 9) and returns how many boxes needed to be purchased until a complete set was obtained.  For now, you don't need to worry too much about the Python code.  Just know that the function does what it's supposed to do."
   ]
  },
  {
   "cell_type": "code",
   "execution_count": 6,
   "metadata": {},
   "outputs": [
    {
     "data": {
      "text/plain": [
       "19"
      ]
     },
     "execution_count": 6,
     "metadata": {},
     "output_type": "execute_result"
    }
   ],
   "source": [
    "def number_prizes_until_complete_set(outcome):\n",
    "    prizes_so_far = []\n",
    "    for trial, result in enumerate(outcome):\n",
    "        prizes_so_far.append(result)\n",
    "        if len(set(prizes_so_far)) == n:\n",
    "            return trial + 1 # +1 is need for zero-indexing; the first prize is 0th prize in Python\n",
    "\n",
    "# for the outcome below, the set is completed when you get prize 7 on box 19 (with usual non-Python indexing)\n",
    "outcome = (3, 4, 3, 0, 1, 6, 5, 3, 2, 4, 5, 6, 9, 8, 3, 4, 5, 6, 7, 3, 3, 3)  \n",
    "number_prizes_until_complete_set(outcome)"
   ]
  },
  {
   "cell_type": "markdown",
   "metadata": {},
   "source": [
    "Use the `number_prizes_until_complete_set` function to define a `RV` `X` on the probability space `P` that you defined above."
   ]
  },
  {
   "cell_type": "code",
   "execution_count": 7,
   "metadata": {},
   "outputs": [],
   "source": [
    "### Enter your Symbulate commands here."
   ]
  },
  {
   "cell_type": "markdown",
   "metadata": {},
   "source": [
    "Find the value of `X` for the following outcome; it should be 19."
   ]
  },
  {
   "cell_type": "code",
   "execution_count": 8,
   "metadata": {},
   "outputs": [],
   "source": [
    "outcome = (3, 4, 3, 0, 1, 6, 5, 3, 2, 4, 5, 6, 9, 8, 3, 4, 5, 6, 7, 3, 3, 3) \n",
    "# Enter your Symbulate code here."
   ]
  },
  {
   "cell_type": "markdown",
   "metadata": {},
   "source": [
    "Simulate 10000 values of `X` and store the values in a variable `x`."
   ]
  },
  {
   "cell_type": "code",
   "execution_count": 9,
   "metadata": {},
   "outputs": [],
   "source": [
    "# Enter your Symbulate code here."
   ]
  },
  {
   "cell_type": "markdown",
   "metadata": {},
   "source": [
    "Summarize the simulated values of `X` in a table."
   ]
  },
  {
   "cell_type": "code",
   "execution_count": 10,
   "metadata": {},
   "outputs": [],
   "source": [
    "# Enter your Symbulate code here."
   ]
  },
  {
   "cell_type": "markdown",
   "metadata": {},
   "source": [
    "Summarize the simulated values of `X` in a plot."
   ]
  },
  {
   "cell_type": "code",
   "execution_count": 11,
   "metadata": {},
   "outputs": [],
   "source": [
    "# Enter your Symbulate code here."
   ]
  },
  {
   "cell_type": "markdown",
   "metadata": {},
   "source": [
    "Use the simulation results to estimate $P(X > 40)$ by finding the corresponding simulated relative frequency.  Enter the appropriate Symbulate commands below; don't just use the above table and a calculator.  (There are a few ways to do this, and you might want to try a couple.  [Hints](https://dlsun.github.io/symbulate/sim.html#recap).)"
   ]
  },
  {
   "cell_type": "code",
   "execution_count": 12,
   "metadata": {},
   "outputs": [],
   "source": [
    "# Enter your Symbulate code here."
   ]
  },
  {
   "cell_type": "markdown",
   "metadata": {},
   "source": [
    "Compute the average (a.k.a. mean) of the simulated values of `X`. "
   ]
  },
  {
   "cell_type": "code",
   "execution_count": 13,
   "metadata": {},
   "outputs": [],
   "source": [
    "# Enter your Symbulate code here."
   ]
  },
  {
   "cell_type": "markdown",
   "metadata": {},
   "source": [
    "Compute the standard deviation (sd) of the simulated values."
   ]
  },
  {
   "cell_type": "code",
   "execution_count": 14,
   "metadata": {},
   "outputs": [],
   "source": [
    "# Enter your Symbulate code here."
   ]
  },
  {
   "cell_type": "markdown",
   "metadata": {},
   "source": [
    "Write a few sentences, in the context of the collector problem, describing the behavior of $X$ when $n=10$ "
   ]
  },
  {
   "cell_type": "markdown",
   "metadata": {},
   "source": [
    "**TYPE YOUR RESPONSE HERE.**"
   ]
  },
  {
   "cell_type": "markdown",
   "metadata": {},
   "source": [
    "This is all you're required to do for Problem 1.  But I would encourage you to play around with the problem.  What happens as you change $n$?  What other random variables might you be interested in, and how might you simulate/program them?"
   ]
  },
  {
   "cell_type": "markdown",
   "metadata": {},
   "source": [
    "## 2. Distributions of functions of Bivariate Normal random variables"
   ]
  },
  {
   "cell_type": "markdown",
   "metadata": {},
   "source": [
    "Let $X$ be the Math score and $Y$ be the Reading score of a randomly selected SAT taker.  We'll assume $(X, Y)$ pairs follow a Bivariate Normal distribution as in [Section 3.9](https://bookdown.org/kevin_davisross/probsim-book/sec-example-sat-both.html) of the textbook.\n",
    "\n",
    "- Math scores ($X$) have mean 527 and standard deviation 107\n",
    "- Reading scores ($Y$) have mean 533 and standard deviation 100\n",
    "- We will investigate different values of correlation.  (We will see correlation in more detail later.  For now, just know that correlation is one way to measure the strength of the association between two random variables.)\n",
    "\n",
    "We will use simulation to investigate how changing correlation affects the long run average and SD of\n",
    "\n",
    "- Total score: $T = X + Y$\n",
    "- Difference in scores: $W = X - Y$\n",
    "- Larger score: $V = \\max(X, Y)$"
   ]
  },
  {
   "cell_type": "markdown",
   "metadata": {},
   "source": [
    "### a) For each of the following scenarios, simulate many $(X, Y)$ pairs and plot them\n",
    "\n",
    "   - Scatter plot is the default `plot` for pairs of values.\n",
    "   - You can also try a two-dimensional histogram using `plot('hist')`; ignore any error messages that pop up.\n",
    "   - You can also try `plot('density')` which plots a smooth density surface over the pairs of possible values with color intensity representing relative height, but this sometimes take a minute to run."
   ]
  },
  {
   "cell_type": "markdown",
   "metadata": {},
   "source": [
    "#### (1) Correlation = 0"
   ]
  },
  {
   "cell_type": "code",
   "execution_count": 15,
   "metadata": {},
   "outputs": [],
   "source": [
    "# Enter your Symbulate code here.  Feel free to add cells as needed."
   ]
  },
  {
   "cell_type": "markdown",
   "metadata": {},
   "source": [
    "#### (2) Correlation = 0.77"
   ]
  },
  {
   "cell_type": "code",
   "execution_count": 16,
   "metadata": {},
   "outputs": [],
   "source": [
    "# Enter your Symbulate code here.  Feel free to add cells as needed."
   ]
  },
  {
   "cell_type": "markdown",
   "metadata": {},
   "source": [
    "#### (3) Correlation = 0.40"
   ]
  },
  {
   "cell_type": "code",
   "execution_count": 17,
   "metadata": {},
   "outputs": [],
   "source": [
    "# Enter your Symbulate code here.  Feel free to add cells as needed."
   ]
  },
  {
   "cell_type": "markdown",
   "metadata": {},
   "source": [
    "#### (4) Correlation = -0.77"
   ]
  },
  {
   "cell_type": "code",
   "execution_count": 18,
   "metadata": {},
   "outputs": [],
   "source": [
    "# Enter your Symbulate code here.  Feel free to add cells as needed."
   ]
  },
  {
   "cell_type": "markdown",
   "metadata": {},
   "source": [
    "### a) Total score: $T = X+ Y$\n",
    "\n",
    "For each of the following scenarios\n",
    "\n",
    "1. Simulate many values of $T = X+Y$ and plot them\n",
    "1. Approximate the long run average of $T$.  How does it relate to the sum of the long run averages of $X$ and $Y$? (Greater/less/equal)\n",
    "1. Approximate the variance of $T$.  How does it relate to the sum of the variances of $X$ and $Y$?  (Greater/less/equal).  (Remember, SD is just the square root of variance.)\n",
    "1. Approximate the SD of $T$.  How does it relate to the sum of the SDs of $X$ and $Y$?  (Greater/less/equal)"
   ]
  },
  {
   "cell_type": "markdown",
   "metadata": {},
   "source": [
    "#### (1) Correlation = 0"
   ]
  },
  {
   "cell_type": "code",
   "execution_count": 19,
   "metadata": {},
   "outputs": [],
   "source": [
    "# Enter your Symbulate code here.  Feel free to add cells as needed."
   ]
  },
  {
   "cell_type": "markdown",
   "metadata": {},
   "source": [
    "#### (2) Correlation = 0.77"
   ]
  },
  {
   "cell_type": "code",
   "execution_count": 20,
   "metadata": {},
   "outputs": [],
   "source": [
    "# Enter your Symbulate code here.  Feel free to add cells as needed."
   ]
  },
  {
   "cell_type": "markdown",
   "metadata": {},
   "source": [
    "#### (3) Correlation = 0.40"
   ]
  },
  {
   "cell_type": "code",
   "execution_count": 21,
   "metadata": {},
   "outputs": [],
   "source": [
    "# Enter your Symbulate code here.  Feel free to add cells as needed."
   ]
  },
  {
   "cell_type": "markdown",
   "metadata": {},
   "source": [
    "#### (4) Correlation = -0.77"
   ]
  },
  {
   "cell_type": "code",
   "execution_count": 22,
   "metadata": {},
   "outputs": [],
   "source": [
    "# Enter your Symbulate code here.  Feel free to add cells as needed."
   ]
  },
  {
   "cell_type": "markdown",
   "metadata": {},
   "source": [
    "#### (5) Write a few sentences summarizing what you observe.  Describe the general shape of the distribution of $T$. How does correlation affect the long run average and SD of $T = X+ Y$?"
   ]
  },
  {
   "cell_type": "markdown",
   "metadata": {},
   "source": [
    "**TYPE YOUR RESPONSE HERE**"
   ]
  },
  {
   "cell_type": "markdown",
   "metadata": {},
   "source": [
    "### b) Difference in scores: $W = X - Y$\n",
    "\n",
    "For each of the following scenarios\n",
    "\n",
    "1. Simulate many values of $W = X-Y$ and plot them\n",
    "1. Approximate the long run average of $W$.  How does it relate to the sum of the long run averages of $X$ and $Y$? (Greater/less/equal)\n",
    "1. Approximate the variance of $W$.  How does it relate to the *sum* of the variances of $X$ and $Y$?  (Greater/less/equal).  (Remember, SD is just the square root of variance.)\n",
    "1. Approximate the SD of $W$.  How does it relate to the *sum* of the SDs of $X$ and $Y$?  (Greater/less/equal)"
   ]
  },
  {
   "cell_type": "markdown",
   "metadata": {},
   "source": [
    "#### (1) Correlation = 0"
   ]
  },
  {
   "cell_type": "code",
   "execution_count": 23,
   "metadata": {},
   "outputs": [],
   "source": [
    "# Enter your Symbulate code here.  Feel free to add cells as needed."
   ]
  },
  {
   "cell_type": "markdown",
   "metadata": {},
   "source": [
    "#### (2) Correlation = 0.77"
   ]
  },
  {
   "cell_type": "code",
   "execution_count": 24,
   "metadata": {},
   "outputs": [],
   "source": [
    "# Enter your Symbulate code here.  Feel free to add cells as needed."
   ]
  },
  {
   "cell_type": "markdown",
   "metadata": {},
   "source": [
    "#### (3) Correlation = 0.40"
   ]
  },
  {
   "cell_type": "code",
   "execution_count": 25,
   "metadata": {},
   "outputs": [],
   "source": [
    "# Enter your Symbulate code here.  Feel free to add cells as needed."
   ]
  },
  {
   "cell_type": "markdown",
   "metadata": {},
   "source": [
    "#### (4) Correlation = -0.77"
   ]
  },
  {
   "cell_type": "code",
   "execution_count": 26,
   "metadata": {},
   "outputs": [],
   "source": [
    "# Enter your Symbulate code here.  Feel free to add cells as needed."
   ]
  },
  {
   "cell_type": "markdown",
   "metadata": {},
   "source": [
    "#### (5) Write a few sentences summarizing what you observe.  Describe the general shape of the distribution of $T$.  How does correlation affect the long run average and SD of $W = X - Y$?"
   ]
  },
  {
   "cell_type": "markdown",
   "metadata": {},
   "source": [
    "**TYPE YOUR RESPONSE HERE**"
   ]
  },
  {
   "cell_type": "markdown",
   "metadata": {},
   "source": [
    "### c) Larger score: $V = \\max(X, Y)$\n",
    "\n",
    "For each of the following scenarios\n",
    "\n",
    "1. Simulate many values of $V = \\max(X, Y)$ and plot them\n",
    "1. Approximate the long run average of $V$.  How does it relate to the long run averages of $X$ and $Y$? (Just comment generally)\n",
    "1. Approximate the variance of $V$.  How does it relate to the variances of $X$ and $Y$?  (Just comment generally)\n",
    "1. Approximate the SD of $V$.  How does it relate to  the SDs of $X$ and $Y$?  (Just comment generally)"
   ]
  },
  {
   "cell_type": "markdown",
   "metadata": {},
   "source": [
    "#### (1) Correlation = 0"
   ]
  },
  {
   "cell_type": "code",
   "execution_count": 27,
   "metadata": {},
   "outputs": [],
   "source": [
    "# Enter your Symbulate code here.  Feel free to add cells as needed."
   ]
  },
  {
   "cell_type": "markdown",
   "metadata": {},
   "source": [
    "#### (2) Correlation = 0.77"
   ]
  },
  {
   "cell_type": "code",
   "execution_count": 28,
   "metadata": {},
   "outputs": [],
   "source": [
    "# Enter your Symbulate code here.  Feel free to add cells as needed."
   ]
  },
  {
   "cell_type": "markdown",
   "metadata": {},
   "source": [
    "#### (3) Correlation = 0.40"
   ]
  },
  {
   "cell_type": "code",
   "execution_count": 29,
   "metadata": {},
   "outputs": [],
   "source": [
    "# Enter your Symbulate code here.  Feel free to add cells as needed."
   ]
  },
  {
   "cell_type": "markdown",
   "metadata": {},
   "source": [
    "#### (4) Correlation = -0.77"
   ]
  },
  {
   "cell_type": "code",
   "execution_count": 30,
   "metadata": {},
   "outputs": [],
   "source": [
    "# Enter your Symbulate code here.  Feel free to add cells as needed."
   ]
  },
  {
   "cell_type": "markdown",
   "metadata": {},
   "source": [
    "#### (5) Write a few sentences summarizing what you observe.  Describe the general shape of the distribution of $T$.  How does correlation affect the long run average and SD of $V = \\max(X, Y)$?"
   ]
  },
  {
   "cell_type": "markdown",
   "metadata": {},
   "source": [
    "## Submission Instructions\n",
    "\n",
    "- After you have completed the notebook, select **Runtime > Run all**\n",
    "- After the notebook finishes rerunning check to make sure that you have no errors and everything runs properly.  Fix any problems and redo this step until it works.\n",
    "    - Careful: there is a bug and sometimes 2-d histograms throw errors.  The plot works fine, it just triggers an error for some reason.  Unfortunately, that might stop your notebook from running.  So if you use 2-d histograms, pay special attention to this step.\n",
    "- Make sure you typed the names of any partners at the top of the notebook where it says \"Type your names here\".\n",
    "- Click Share in the top right and share with stat305cp@gmail.com \n",
    "- Save a PDF version: File > Print > Save as PDF\n",
    "- Download the notebook: File > Download .ipynb\n",
    "- Submit the notebook and PDF in Canvas.  Remember, only one submission per team.  (Either partner can submit; put the names of the partners in the comments.)"
   ]
  },
  {
   "cell_type": "code",
   "execution_count": null,
   "metadata": {},
   "outputs": [],
   "source": []
  }
 ],
 "metadata": {
  "kernelspec": {
   "display_name": "Python 3",
   "language": "python",
   "name": "python3"
  },
  "language_info": {
   "codemirror_mode": {
    "name": "ipython",
    "version": 3
   },
   "file_extension": ".py",
   "mimetype": "text/x-python",
   "name": "python",
   "nbconvert_exporter": "python",
   "pygments_lexer": "ipython3",
   "version": "3.7.6"
  }
 },
 "nbformat": 4,
 "nbformat_minor": 2
}
