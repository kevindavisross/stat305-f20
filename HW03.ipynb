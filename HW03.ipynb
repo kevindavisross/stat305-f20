{
  "nbformat": 4,
  "nbformat_minor": 0,
  "metadata": {
    "kernelspec": {
      "display_name": "Python 3",
      "language": "python",
      "name": "python3"
    },
    "language_info": {
      "codemirror_mode": {
        "name": "ipython",
        "version": 3
      },
      "file_extension": ".py",
      "mimetype": "text/x-python",
      "name": "python",
      "nbconvert_exporter": "python",
      "pygments_lexer": "ipython3",
      "version": "3.7.3"
    },
    "colab": {
      "name": "HW03",
      "provenance": [],
      "include_colab_link": true
    }
  },
  "cells": [
    {
      "cell_type": "markdown",
      "metadata": {
        "id": "view-in-github",
        "colab_type": "text"
      },
      "source": [
        "<a href=\"https://colab.research.google.com/github/kevindavisross/stat305-f20/blob/master/HW03.ipynb\" target=\"_parent\"><img src=\"https://colab.research.google.com/assets/colab-badge.svg\" alt=\"Open In Colab\"/></a>"
      ]
    },
    {
      "cell_type": "markdown",
      "metadata": {
        "id": "I3qh7r5pCY5V"
      },
      "source": [
        "# Stat 305 HW3, Part II"
      ]
    },
    {
      "cell_type": "markdown",
      "metadata": {
        "id": "DZbNH2XmzjCO"
      },
      "source": [
        "**TYPE YOUR NAME(S) HERE.** I encourage you to work in a team of up to 3 people; submit one per team."
      ]
    },
    {
      "cell_type": "markdown",
      "metadata": {
        "id": "K6ghJ3eNCY5c"
      },
      "source": [
        "## Introduction\n",
        "\n",
        "This Colab/Jupyter notebook provides a template for you to fill in. **Read the notebook from start to finish, completing the parts as indicated.**  To run a cell, make sure the cell is highlighted by clicking on it, then press SHIFT + ENTER on your keyboard.  (Alternatively, you can click the \"play\" button.)\n",
        "\n",
        "Some code has already been provided.  Be sure to run this code and view the output to understand what it does.  In other parts, you will need to provide the code yourself; use the examples in the textbook as a guide. \n",
        "\n",
        "You will use the Python package [Symbulate](https://github.com/dlsun/symbulate).  A few specific links to the documentation are provided below.  **You should use only use Symbulate commands, not general Python code.**"
      ]
    },
    {
      "cell_type": "markdown",
      "metadata": {
        "id": "WNYh4PdqCY5d"
      },
      "source": [
        "Be sure to run the following lines first."
      ]
    },
    {
      "cell_type": "code",
      "metadata": {
        "id": "d-duzpVmCY5f",
        "outputId": "6cfc1a47-5ad7-41a1-8262-3a3e6f7a6e19",
        "colab": {
          "base_uri": "https://localhost:8080/",
          "height": 191
        }
      },
      "source": [
        "# If in Colab, uncomment the following line and run this cell\n",
        "!pip install symbulate"
      ],
      "execution_count": null,
      "outputs": [
        {
          "output_type": "stream",
          "text": [
            "Requirement already satisfied: symbulate in /usr/local/lib/python3.6/dist-packages (0.5.7)\n",
            "Requirement already satisfied: matplotlib in /usr/local/lib/python3.6/dist-packages (from symbulate) (3.2.2)\n",
            "Requirement already satisfied: numpy in /usr/local/lib/python3.6/dist-packages (from symbulate) (1.18.5)\n",
            "Requirement already satisfied: scipy in /usr/local/lib/python3.6/dist-packages (from symbulate) (1.4.1)\n",
            "Requirement already satisfied: python-dateutil>=2.1 in /usr/local/lib/python3.6/dist-packages (from matplotlib->symbulate) (2.8.1)\n",
            "Requirement already satisfied: kiwisolver>=1.0.1 in /usr/local/lib/python3.6/dist-packages (from matplotlib->symbulate) (1.2.0)\n",
            "Requirement already satisfied: pyparsing!=2.0.4,!=2.1.2,!=2.1.6,>=2.0.1 in /usr/local/lib/python3.6/dist-packages (from matplotlib->symbulate) (2.4.7)\n",
            "Requirement already satisfied: cycler>=0.10 in /usr/local/lib/python3.6/dist-packages (from matplotlib->symbulate) (0.10.0)\n",
            "Requirement already satisfied: six>=1.5 in /usr/local/lib/python3.6/dist-packages (from python-dateutil>=2.1->matplotlib->symbulate) (1.15.0)\n"
          ],
          "name": "stdout"
        }
      ]
    },
    {
      "cell_type": "code",
      "metadata": {
        "id": "lfaheMAGCY5w"
      },
      "source": [
        "from symbulate import *\n",
        "%matplotlib inline"
      ],
      "execution_count": null,
      "outputs": []
    },
    {
      "cell_type": "markdown",
      "metadata": {
        "id": "Vj6pBmYmDkm7"
      },
      "source": [
        "## A few notes about Colab/Jupyter notebooks\n",
        "\n",
        "- Each cell contains either Code or text (Markdown)\n",
        "- You can run an individual cell by clicking on it and holding SHIFT-ENTER or by clicking the play button.  Any output from the cell will be displayed underneath it.\n",
        "- Cells are evaluated in the order in which you run them.  After a cell is run it should have `Out[xx]` to the left, indicating the order in which the cells were run.\n",
        "- When you select \"Run all\", cells will be evaluated in sequence starting with the first cell at the top of the notebook.\n",
        "- You can use objects evaluted in one cell in others.  Just keep in mind that cells are evaluated in order.  So if you call something `x` in one cell, but redefine `x` as something else in another cell, it's essential that you evaluate the cells in the proper order.\n",
        "- Any plots should be displayed automatically (as long as you run the `%matplotlib inline` command).\n",
        "- While all the code in a cell is evaluated, only the output of the last line of code in a cell is displayed automatically (aside from plots).  If you want to display multiple pieces of output, you can either use `print` or just add cells and put each line in a separate cell. \n",
        "- You can add cells with Insert or with the + sign on the menu,\n"
      ]
    },
    {
      "cell_type": "markdown",
      "metadata": {
        "id": "4LqXFZEKCY6F"
      },
      "source": [
        "In this HW you will:\n",
        "\n",
        "- Define and simulate values of random variables\n",
        "- Display simulated values in plots to visualize distributions, in particular, **joint distributions**\n",
        "- Take a closer look at covariance and correlation, numbers which measure the association between two random variables\n",
        "- Investigate transformations of random variables\n",
        "\n",
        "Hints about thinking about/sketching distributions:\n",
        "\n",
        "1. Figure out an appropriate type of plot to sketch (Is the variable discrete or continuous?  One variable or two? Joint or marginal distribution?)\n",
        "1. Consider just one possible example value.  Or a few possible values.  Remember to consider *pairs* of values for a joint distribution.\n",
        "1. Determine all possible values and label the plot axes. Remember to consider possible *pairs* of values for a joint distribution.\n",
        "1. Then start to think about which values will be more/less likely than others.  This step is the hardest, but just doing the first three steps gets you a long way toward the answer."
      ]
    },
    {
      "cell_type": "markdown",
      "metadata": {
        "id": "FPVKQMrQCY9l"
      },
      "source": [
        "## 1) Two continuous random variables\n",
        "\n",
        "Spin the Uniform(0, 1) spinner twice and let $U_1$ be the result of the first spin and $U_2$ the result of the second.  Define $X=-\\log(U_1)$ and $Y=(2U_2-1)X$.\n",
        "\n",
        "**Note:** This scenario is also on the written homework.  You should do that part first and sketch the plots by hand first before doing this part."
      ]
    },
    {
      "cell_type": "markdown",
      "metadata": {
        "id": "HsECbCeJCY9m"
      },
      "source": [
        "Define an appropriate probability space and RVs.  (Hint: remember `** 2` for \"spin twice\".)"
      ]
    },
    {
      "cell_type": "code",
      "metadata": {
        "id": "3LApWb3JCY9o"
      },
      "source": [
        "# Enter your Symbulate code here"
      ],
      "execution_count": null,
      "outputs": []
    },
    {
      "cell_type": "markdown",
      "metadata": {
        "id": "8EuvfixzCY9w"
      },
      "source": [
        "Simulate many $(X, Y)$ pairs, store the results, and summarize the simulated values in a plot.  Note: you should definitely try a scatterplot first for this one, because the scale of values in this particular problem obscures the histogram and density plots.  So try scatter first, and then you can try other plots."
      ]
    },
    {
      "cell_type": "code",
      "metadata": {
        "id": "6IEqZ2P3CY9x"
      },
      "source": [
        "# Enter your Symbulate code here"
      ],
      "execution_count": null,
      "outputs": []
    },
    {
      "cell_type": "markdown",
      "metadata": {
        "id": "ikjqhsXPCY93"
      },
      "source": [
        "Create a plot displaying both joint and marginal distributions.  Hint: add `'marginal'` to whatever plot you created above, e.g., `.plot(['scatter', 'marginal'])` or `.plot(['hist', 'marginal'])`"
      ]
    },
    {
      "cell_type": "code",
      "metadata": {
        "id": "J42EscSyCY95"
      },
      "source": [
        "# Enter your Symbulate code here"
      ],
      "execution_count": null,
      "outputs": []
    },
    {
      "cell_type": "markdown",
      "metadata": {
        "id": "cX8Ns37gCY9-"
      },
      "source": [
        "Approximate $Cov(X, Y)$ and $Corr(X, Y)$."
      ]
    },
    {
      "cell_type": "code",
      "metadata": {
        "id": "NmtOlnv8CY9_"
      },
      "source": [
        "# Enter your Symbulate code here"
      ],
      "execution_count": null,
      "outputs": []
    },
    {
      "cell_type": "markdown",
      "metadata": {
        "id": "7c1ppGYZCY-F"
      },
      "source": [
        "You already tried sketching the plots in HW.  Does the simulation match with your sketches?  Write a few sentences describing your simulation results.  Consider:\n",
        "    \n",
        "- Can you explain why the plots look the way they do?\n",
        "- Can you suggest an expression for the joint pdf? Would you say that the joint distribution is uniform over the range of possible values?\n",
        "- Can you suggest expressions for the marginal pdfs?\n",
        "- Can you explain the value of correlation?"
      ]
    },
    {
      "cell_type": "markdown",
      "metadata": {
        "id": "JBdq9pgHHEkw"
      },
      "source": [
        "**TYPE YOUR RESPONSE HERE.**"
      ]
    },
    {
      "cell_type": "markdown",
      "metadata": {
        "id": "aaVhv1TaCY-G"
      },
      "source": [
        "## 2) Standardization (Mostly just read this and run; this will preview some things we'll discuss in week 4.)\n"
      ]
    },
    {
      "cell_type": "markdown",
      "metadata": {
        "id": "aKRJm25eCY-H"
      },
      "source": [
        "Assume that SAT Math ($X$) and Reading ($Y$) scores follow a Bivariate Normal distribution with mean 500 for each score, SD 100 for each score, and a correlation of 0.8."
      ]
    },
    {
      "cell_type": "code",
      "metadata": {
        "id": "mFROfNLpCY-H"
      },
      "source": [
        "P = BivariateNormal(mean1 = 500, sd1 = 100, mean2 = 500, sd2 = 100, corr = 0.8)\n",
        "X, Y = RV(P)"
      ],
      "execution_count": null,
      "outputs": []
    },
    {
      "cell_type": "markdown",
      "metadata": {
        "id": "KS3zrhXCCY-R"
      },
      "source": [
        "Simulate many $(X, Y)$ pairs, summarize in a plot, and use the simulated results to estimate $\\text{Cov}(X, Y)$."
      ]
    },
    {
      "cell_type": "code",
      "metadata": {
        "id": "1xdkhsdSCY-R"
      },
      "source": [
        "xy = (X & Y).sim(10000)\n",
        "xy.plot(['hist', 'marginal'])"
      ],
      "execution_count": null,
      "outputs": []
    },
    {
      "cell_type": "code",
      "metadata": {
        "id": "mLw8R7TnCY-W"
      },
      "source": [
        "xy.cov(), xy.corr()"
      ],
      "execution_count": null,
      "outputs": []
    },
    {
      "cell_type": "markdown",
      "metadata": {
        "id": "pbArvqBmCY-Z"
      },
      "source": [
        "`xy` stores (x, y) pairs.  The following just picks off the x values and y values separately."
      ]
    },
    {
      "cell_type": "code",
      "metadata": {
        "id": "lYT3AGaHCY-a"
      },
      "source": [
        "x = xy[0]\n",
        "y = xy[1]"
      ],
      "execution_count": null,
      "outputs": []
    },
    {
      "cell_type": "markdown",
      "metadata": {
        "id": "CTM-kJziCY-h"
      },
      "source": [
        "We can compute $SD(X), SD(Y)$ and see that $Corr(X, Y) = \\frac{Cov(X, Y)}{SD(X)SD(Y)}$."
      ]
    },
    {
      "cell_type": "code",
      "metadata": {
        "id": "UX7IYKFQCY-i"
      },
      "source": [
        "x.sd(), y.sd()"
      ],
      "execution_count": null,
      "outputs": []
    },
    {
      "cell_type": "code",
      "metadata": {
        "id": "be_-LnCPCY-n"
      },
      "source": [
        "xy.cov() / (x.sd() * y.sd())"
      ],
      "execution_count": null,
      "outputs": []
    },
    {
      "cell_type": "markdown",
      "metadata": {
        "id": "0rS9zlcmCY-u"
      },
      "source": [
        "A standardized RV is defined as $\\frac{X-E(X)}{SD(X)}$.\n",
        "\n",
        "**Thought questions:** Will standardizing a RV change the *shape* of its distribution?  What will the expected value and SD of a standardized RV be?"
      ]
    },
    {
      "cell_type": "markdown",
      "metadata": {
        "id": "2mbK0mFjCY-y"
      },
      "source": [
        "A standardized RV has expected 0 and standard deviation 1."
      ]
    },
    {
      "cell_type": "code",
      "metadata": {
        "id": "TWe-sknYCY-y"
      },
      "source": [
        "zx = (x - x.mean()) / x.sd()\n",
        "zx.plot()\n",
        "zx.mean(), zx.sd()"
      ],
      "execution_count": null,
      "outputs": []
    },
    {
      "cell_type": "code",
      "metadata": {
        "id": "sE3d1KtiCY-2"
      },
      "source": [
        "zy = (y - y.mean()) / y.sd()\n",
        "zy.plot()\n",
        "zy.mean(), zy.sd()"
      ],
      "execution_count": null,
      "outputs": []
    },
    {
      "cell_type": "markdown",
      "metadata": {
        "id": "0WWjex3-CY-8"
      },
      "source": [
        "Correlation is the covariance between the standardized versions of the RVs.\n",
        "\n",
        "$$\n",
        "Corr(X, Y) = Cov\\left(\\frac{X-E(X)}{SD(X)}, \\frac{Y-E(Y)}{SD(Y)}\\right)\n",
        "$$"
      ]
    },
    {
      "cell_type": "code",
      "metadata": {
        "id": "J4HUdgIeCY-9"
      },
      "source": [
        "(zx * zy).mean() - (zx.mean() * zy.mean())"
      ],
      "execution_count": null,
      "outputs": []
    },
    {
      "cell_type": "markdown",
      "metadata": {
        "id": "tMetyGsHCY_J"
      },
      "source": [
        "You can also use `.standardize`."
      ]
    },
    {
      "cell_type": "code",
      "metadata": {
        "id": "xTz6vCm6CY_M"
      },
      "source": [
        "xy.standardize().plot(['hist', 'marginal'])"
      ],
      "execution_count": null,
      "outputs": []
    },
    {
      "cell_type": "code",
      "metadata": {
        "id": "IzFmg2t3CY_a"
      },
      "source": [
        "xy.standardize().cov(), xy.corr()"
      ],
      "execution_count": null,
      "outputs": []
    },
    {
      "cell_type": "markdown",
      "metadata": {
        "id": "Dp4simtQCY_n"
      },
      "source": [
        "# 3) Two more continuous random variables\n",
        "\n",
        "Spin the Uniform(0, 1) spinner twice and let $U_1$ be the result of the first spin and $U_2$ the result of the second.  Define $X=-\\log(U_1)$ and $Y=X + U_2$.\n",
        "\n",
        "First, on your own\n",
        "- Sketch a plot of the joint distribution of $X$ and $Y$ and determine if the covariance will be positive, negative, or zero.\n",
        "- Sketch the marginal distributions.\n"
      ]
    },
    {
      "cell_type": "markdown",
      "metadata": {
        "id": "q7kFhAj2Fz4e"
      },
      "source": [
        "Define appropriate random variables and use simulation to approximate the joint distribution of $X $and $Y$ and display it in a plot."
      ]
    },
    {
      "cell_type": "code",
      "metadata": {
        "id": "KVoSW5iRFy-P"
      },
      "source": [
        "# Enter your Symbulate code here"
      ],
      "execution_count": null,
      "outputs": []
    },
    {
      "cell_type": "markdown",
      "metadata": {
        "id": "ySHtF9LVGGBk"
      },
      "source": [
        "Approximate the covariance and correlation of $X$ and $Y$."
      ]
    },
    {
      "cell_type": "code",
      "metadata": {
        "id": "H_j5fFGKCY_w"
      },
      "source": [
        "# Enter your Symbulate code here"
      ],
      "execution_count": null,
      "outputs": []
    },
    {
      "cell_type": "markdown",
      "metadata": {
        "id": "Uf7pBG4qGK7y"
      },
      "source": [
        "Use simulation to approximate the marginal distribution of $Y$ and its mean and standard deviation, and plot the distribution."
      ]
    },
    {
      "cell_type": "code",
      "metadata": {
        "id": "HbmpuUvoFx2n"
      },
      "source": [
        "# Enter your Symbulate code here"
      ],
      "execution_count": null,
      "outputs": []
    },
    {
      "cell_type": "markdown",
      "metadata": {
        "id": "oHOGXMN9HZSH"
      },
      "source": [
        " Write a few sentences describing your simulation results.  Consider:\n",
        "    \n",
        "- Can you explain why the plots look the way they do?\n",
        "- Can you suggest an expression for the joint pdf? Would you say that the joint distribution is uniform over the range of possible values?\n",
        "- Can you suggest expressions for the marginal pdfs?\n",
        "- Can you explain the value of correlation?"
      ]
    },
    {
      "cell_type": "markdown",
      "metadata": {
        "id": "VEJuaVVXHank"
      },
      "source": [
        "**TYPE YOUR RESPONSE HERE.**"
      ]
    },
    {
      "cell_type": "markdown",
      "metadata": {
        "id": "vif_IdprCY_5"
      },
      "source": [
        "## 4)\n",
        "\n",
        "Reflection: Write a paragraph, or some bullet points, of what you learned from this lab"
      ]
    },
    {
      "cell_type": "markdown",
      "metadata": {
        "id": "51MnjZTTCY_6"
      },
      "source": [
        "**TYPE YOUR RESPONSE HERE.**"
      ]
    },
    {
      "cell_type": "markdown",
      "metadata": {
        "id": "srQZgMSiCY_9"
      },
      "source": [
        "## Submission Instructions\n",
        "\n",
        "- After you have completed the notebook, select **Runtime > Run all**\n",
        "- After the notebook finishes rerunning check to make sure that you have no errors and everything runs properly.  Fix any problems and redo this step until it works.\n",
        "    - Careful: there is a bug and sometimes 2-d histograms throw errors.  The plot works fine, it just triggers an error for some reason.  Unfortunately, that might stop your notebook from running.  So if you use 2-d histograms, pay special attention to this step.\n",
        "- Make sure you typed the names of any partners at the top of the notebook where it says \"Type your names here\".\n",
        "- Click Share in the top right and share with stat305cp@gmail.com \n",
        "- Save a PDF version: File > Print > Save as PDF\n",
        "- Download the notebook: File > Download .ipynb\n",
        "- Submit the notebook and PDF in Canvas.  Remember, only one submission per team.  (Either partner can submit; put the names of the partners in the comments.)"
      ]
    },
    {
      "cell_type": "code",
      "metadata": {
        "id": "PP4vVaY7CY_-"
      },
      "source": [
        ""
      ],
      "execution_count": null,
      "outputs": []
    }
  ]
}