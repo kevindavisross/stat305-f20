{
  "nbformat": 4,
  "nbformat_minor": 0,
  "metadata": {
    "kernelspec": {
      "display_name": "Python 3",
      "language": "python",
      "name": "python3"
    },
    "language_info": {
      "codemirror_mode": {
        "name": "ipython",
        "version": 3
      },
      "file_extension": ".py",
      "mimetype": "text/x-python",
      "name": "python",
      "nbconvert_exporter": "python",
      "pygments_lexer": "ipython3",
      "version": "3.7.3"
    },
    "colab": {
      "name": "HW05.ipynb",
      "provenance": [],
      "collapsed_sections": [],
      "include_colab_link": true
    }
  },
  "cells": [
    {
      "cell_type": "markdown",
      "metadata": {
        "id": "view-in-github",
        "colab_type": "text"
      },
      "source": [
        "<a href=\"https://colab.research.google.com/github/kevindavisross/stat305-f20/blob/master/HW05.ipynb\" target=\"_parent\"><img src=\"https://colab.research.google.com/assets/colab-badge.svg\" alt=\"Open In Colab\"/></a>"
      ]
    },
    {
      "cell_type": "markdown",
      "metadata": {
        "id": "WACyflycRqU7"
      },
      "source": [
        "# Stat 305 HW5"
      ]
    },
    {
      "cell_type": "markdown",
      "metadata": {
        "id": "f40agTr7RqU9"
      },
      "source": [
        "**TYPE YOUR NAMES HERE**"
      ]
    },
    {
      "cell_type": "markdown",
      "metadata": {
        "id": "NwoXixE8RqU9"
      },
      "source": [
        "## Introduction\n",
        "\n",
        "This Colab notebook provides a template for you to fill in. **Read the notebook from start to finish, completing the parts as indicated.**  To run a cell, make sure the cell is highlighted by clicking on it, then press SHIFT + ENTER on your keyboard.  (Alternatively, you can click the \"play\" button.)\n",
        "\n",
        "Some code has already been provided.  Be sure to run this code and view the output to understand what it does.  In other parts, you will need to provide the code yourself; use the examples provided as a guide. \n",
        "\n",
        "You will use the Python package [Symbulate](https://github.com/dlsun/symbulate).   You will need to write a few simple Python functions, but **whenever possible, you should use only use Symbulate commands, not general Python code.**\n"
      ]
    },
    {
      "cell_type": "markdown",
      "metadata": {
        "id": "s5mmF7UqRqU-"
      },
      "source": [
        "Be sure to run the following lines first."
      ]
    },
    {
      "cell_type": "code",
      "metadata": {
        "id": "PaFxMn4ZRqU_",
        "outputId": "55bd06ce-95d0-4fb5-e1bf-e69fb9f5b2d6",
        "colab": {
          "base_uri": "https://localhost:8080/",
          "height": 235
        }
      },
      "source": [
        "# If in Colab, uncomment the following line and run this cell first\n",
        "!pip install symbulate"
      ],
      "execution_count": 1,
      "outputs": [
        {
          "output_type": "stream",
          "text": [
            "Collecting symbulate\n",
            "\u001b[?25l  Downloading https://files.pythonhosted.org/packages/a0/3f/aa7ee2dc3b5853b149581f3add74e935195c821d7f701fb648f953582a88/symbulate-0.5.7-py3-none-any.whl (44kB)\n",
            "\u001b[K     |████████████████████████████████| 51kB 888kB/s \n",
            "\u001b[?25hRequirement already satisfied: scipy in /usr/local/lib/python3.6/dist-packages (from symbulate) (1.4.1)\n",
            "Requirement already satisfied: matplotlib in /usr/local/lib/python3.6/dist-packages (from symbulate) (3.2.2)\n",
            "Requirement already satisfied: numpy in /usr/local/lib/python3.6/dist-packages (from symbulate) (1.18.5)\n",
            "Requirement already satisfied: pyparsing!=2.0.4,!=2.1.2,!=2.1.6,>=2.0.1 in /usr/local/lib/python3.6/dist-packages (from matplotlib->symbulate) (2.4.7)\n",
            "Requirement already satisfied: kiwisolver>=1.0.1 in /usr/local/lib/python3.6/dist-packages (from matplotlib->symbulate) (1.2.0)\n",
            "Requirement already satisfied: cycler>=0.10 in /usr/local/lib/python3.6/dist-packages (from matplotlib->symbulate) (0.10.0)\n",
            "Requirement already satisfied: python-dateutil>=2.1 in /usr/local/lib/python3.6/dist-packages (from matplotlib->symbulate) (2.8.1)\n",
            "Requirement already satisfied: six in /usr/local/lib/python3.6/dist-packages (from cycler>=0.10->matplotlib->symbulate) (1.15.0)\n",
            "Installing collected packages: symbulate\n",
            "Successfully installed symbulate-0.5.7\n"
          ],
          "name": "stdout"
        }
      ]
    },
    {
      "cell_type": "code",
      "metadata": {
        "id": "e3sdPw-mRqVK"
      },
      "source": [
        "from symbulate import *\n",
        "%matplotlib inline"
      ],
      "execution_count": 2,
      "outputs": []
    },
    {
      "cell_type": "markdown",
      "metadata": {
        "id": "M8S0smXvU6FM"
      },
      "source": [
        "## 1) Written HW problem 4."
      ]
    },
    {
      "cell_type": "markdown",
      "metadata": {
        "id": "LU_cobF7SlW2"
      },
      "source": [
        "Suppose that $X$ has a Uniform(1, 3) distribution; that is the possible values of $X$ are $[1, 3]$.  Also suppose that given $X=x$, $Y$ has a Uniform$(x, 2x)$ distribution.  In the written part, you sketched related distributions.  Now you will use simulation to approximate some distributions.\n",
        "\n",
        "The code below defines independent random variables $U_1$ and $U_2$ each with a Uniform(0, 1) distribution.  Starting with this code, define $X$ and $Y$.  Then simulate many values and plot the joint distribution."
      ]
    },
    {
      "cell_type": "code",
      "metadata": {
        "id": "-RRgr9p3SkP8"
      },
      "source": [
        "U1, U2 = Uniform(0, 1) * Uniform(0, 1)"
      ],
      "execution_count": null,
      "outputs": []
    },
    {
      "cell_type": "markdown",
      "metadata": {
        "id": "rZUt7dNtSk9H"
      },
      "source": [
        "Perform a simulation to approximate the conditional pdf of $Y$ given $X=3$, and plot it.  Remember, be careful when conditioning on the value of a continuous random variable!  See [Section 6.2.2](https://bookdown.org/kevin_davisross/probsim-book/conditional-distributions.html#continuous-random-variables-conditional-probability-density-functions).\n",
        "\n"
      ]
    },
    {
      "cell_type": "code",
      "metadata": {
        "id": "WP5EoJkyTGHO"
      },
      "source": [
        "# Enter your Symbulate code here"
      ],
      "execution_count": null,
      "outputs": []
    },
    {
      "cell_type": "markdown",
      "metadata": {
        "id": "cemUdH7MUGkA"
      },
      "source": [
        "Perform a simulation to approximate the conditional pdf of $Y$ given $X=2$, and plot it.  Remember, be careful when conditioning on the value of a continuous random variable!  See [Section 6.2.2](https://bookdown.org/kevin_davisross/probsim-book/conditional-distributions.html#continuous-random-variables-conditional-probability-density-functions)."
      ]
    },
    {
      "cell_type": "code",
      "metadata": {
        "id": "HenpeYFRUJ3Q"
      },
      "source": [
        "# Enter your Symbulate code here"
      ],
      "execution_count": null,
      "outputs": []
    },
    {
      "cell_type": "markdown",
      "metadata": {
        "id": "Y6VAOjAwTqkr"
      },
      "source": [
        "Perform a simulation to approximate the conditional pdf of $X$ given $Y=3$, and plot it.  Remember, be careful when conditioning on the value of a continuous random variable!  See [Section 6.2.2](https://bookdown.org/kevin_davisross/probsim-book/conditional-distributions.html#continuous-random-variables-conditional-probability-density-functions)."
      ]
    },
    {
      "cell_type": "code",
      "metadata": {
        "id": "4Yvo_mDdUdnL"
      },
      "source": [
        "# Enter your Symbulate code here"
      ],
      "execution_count": null,
      "outputs": []
    },
    {
      "cell_type": "markdown",
      "metadata": {
        "id": "gUfm-_K1Udyk"
      },
      "source": [
        "Perform a simulation to approximate the conditional pdf of $X$ given $Y=2$, and plot it.  Remember, be careful when conditioning on the value of a continuous random variable!  See [Section 6.2.2](https://bookdown.org/kevin_davisross/probsim-book/conditional-distributions.html#continuous-random-variables-conditional-probability-density-functions)."
      ]
    },
    {
      "cell_type": "code",
      "metadata": {
        "id": "afEkwfD-Ud66"
      },
      "source": [
        "# Enter your Symbulate code here"
      ],
      "execution_count": null,
      "outputs": []
    },
    {
      "cell_type": "markdown",
      "metadata": {
        "id": "BlTEGX3iUi4Q"
      },
      "source": [
        "Perform a simulation to approximate the conditional pdf of $X$ given $Y=4$, and plot it.  Remember, be careful when conditioning on the value of a continuous random variable!  See [Section 6.2.2](https://bookdown.org/kevin_davisross/probsim-book/conditional-distributions.html#continuous-random-variables-conditional-probability-density-functions)."
      ]
    },
    {
      "cell_type": "code",
      "metadata": {
        "id": "Jy8z9mXPUjBI"
      },
      "source": [
        "# Enter your Symbulate code here"
      ],
      "execution_count": null,
      "outputs": []
    },
    {
      "cell_type": "markdown",
      "metadata": {
        "id": "631VyF7iV28r"
      },
      "source": [
        "Use simulation to approximate the covariance and correlation of $X$ and $Y$"
      ]
    },
    {
      "cell_type": "code",
      "metadata": {
        "id": "hNylGHDiV6Am"
      },
      "source": [
        "# Enter your Symbulate code here"
      ],
      "execution_count": null,
      "outputs": []
    },
    {
      "cell_type": "markdown",
      "metadata": {
        "id": "6e6WcbZtVcIb"
      },
      "source": [
        "Write a few sentences describe the joint, conditional, and marginal distributions in this problem.  "
      ]
    },
    {
      "cell_type": "markdown",
      "metadata": {
        "id": "nav08elAVq-K"
      },
      "source": [
        "**TYPE YOUR RESPONSE HERE.**"
      ]
    },
    {
      "cell_type": "markdown",
      "metadata": {
        "id": "jj_NCp2QXOxz"
      },
      "source": [
        "## 2) Waiting time problem.\n",
        "\n",
        "Remember the Regina and Cady meeting time problem in which their two arrival times are independent, each following a Uniform(0, 1) distribution.  Let $T=\\min(R, Y)$ be the time at which the first person arrives, and let $W=|R-Y|$ be the amount of time the first person to arrive waits before the second person arrives.  We have seen that $W$ and $T$ have the same marginal distributions.  But now we will consider the joint and conditional distributions."
      ]
    },
    {
      "cell_type": "markdown",
      "metadata": {
        "id": "bRdtvUZZXtjZ"
      },
      "source": [
        "Define appropriate random variables, and perform a simulation to approximate the joint distribution of $W$ and $T$.  Also, approximate the covariance and correlation."
      ]
    },
    {
      "cell_type": "code",
      "metadata": {
        "id": "eByTHV-QW_R7"
      },
      "source": [
        "# Enter your Symbulate code here"
      ],
      "execution_count": null,
      "outputs": []
    },
    {
      "cell_type": "markdown",
      "metadata": {
        "id": "ybvvklH2X7QE"
      },
      "source": [
        "Perform a simulation to approximate the conditional distribution of $W$ given $T=0.25$.  Also approximate the conditional mean and SD."
      ]
    },
    {
      "cell_type": "code",
      "metadata": {
        "id": "mBOtheacYGbu"
      },
      "source": [
        "# Enter your Symbulate code here"
      ],
      "execution_count": null,
      "outputs": []
    },
    {
      "cell_type": "markdown",
      "metadata": {
        "id": "HWU7spUZYGj8"
      },
      "source": [
        "Perform a simulation to approximate the conditional distribution of $W$ given $T=0.5$.  Also approximate the conditional mean and SD."
      ]
    },
    {
      "cell_type": "code",
      "metadata": {
        "id": "htwPuRL4YGtJ"
      },
      "source": [
        "# Enter your Symbulate code here"
      ],
      "execution_count": null,
      "outputs": []
    },
    {
      "cell_type": "markdown",
      "metadata": {
        "id": "TPVJFhvdYG1G"
      },
      "source": [
        "Perform a simulation to approximate the conditional distribution of $W$ given $T=0.75$.  Also approximate the conditional mean and SD."
      ]
    },
    {
      "cell_type": "code",
      "metadata": {
        "id": "bJ6GpHumYG8j"
      },
      "source": [
        "# Enter your Symbulate code here"
      ],
      "execution_count": null,
      "outputs": []
    },
    {
      "cell_type": "markdown",
      "metadata": {
        "id": "SDpU9jJuYHFG"
      },
      "source": [
        "Perform a simulation to approximate the conditional distribution of $T$ given $W=0.25$.  Also approximate the conditional mean and SD."
      ]
    },
    {
      "cell_type": "code",
      "metadata": {
        "id": "S24TOmGuYndm"
      },
      "source": [
        "# Enter your Symbulate code here"
      ],
      "execution_count": null,
      "outputs": []
    },
    {
      "cell_type": "markdown",
      "metadata": {
        "id": "2MyhPqrcYnpl"
      },
      "source": [
        "Perform a simulation to approximate the conditional distribution of $T$ given $W=0.5$.  Also approximate the conditional mean and SD."
      ]
    },
    {
      "cell_type": "code",
      "metadata": {
        "id": "J9JrI9s1Yny-"
      },
      "source": [
        "# Enter your Symbulate code here"
      ],
      "execution_count": null,
      "outputs": []
    },
    {
      "cell_type": "markdown",
      "metadata": {
        "id": "uuYMKxO9Yn8u"
      },
      "source": [
        "Perform a simulation to approximate the conditional distribution of $T$ given $W=0.75$.  Also approximate the conditional mean and SD."
      ]
    },
    {
      "cell_type": "code",
      "metadata": {
        "id": "Mqsh3ra4YoGH"
      },
      "source": [
        "# Enter your Symbulate code here"
      ],
      "execution_count": null,
      "outputs": []
    },
    {
      "cell_type": "markdown",
      "metadata": {
        "id": "ytuYIbJ7YTes"
      },
      "source": [
        "Write a few sentences describe the joint, conditional, and marginal distributions in this problem.  "
      ]
    },
    {
      "cell_type": "markdown",
      "metadata": {
        "id": "OBG-EmpiYTi1"
      },
      "source": [
        "**TYPE YOUR RESPONSE HERE.**"
      ]
    },
    {
      "cell_type": "markdown",
      "metadata": {
        "id": "V8eEDQ0oRqYX"
      },
      "source": [
        "## Submission Instructions\n",
        "\n",
        "- After you have completed the notebook, select **Runtime > Run all**\n",
        "- After the notebook finishes rerunning check to make sure that you have no errors and everything runs properly.  Fix any problems and redo this step until it works.\n",
        "    - Careful: there is a bug and sometimes 2-d histograms throw errors.  The plot works fine, it just triggers an error for some reason.  Unfortunately, that might stop your notebook from running.  So if you use 2-d histograms, pay special attention to this step.\n",
        "- Make sure you typed the names of any partners at the top of the notebook where it says \"Type your names here\".\n",
        "- Save a PDF version: File > Print > Save as PDF\n",
        "- Download the notebook: File > Download .ipynb\n",
        "- **Submit both the notebook .ipynb file and PDF in Canvas**.  Remember, only one submission per team.  (Either partner can submit; **put the names of the partners in the comments.**)"
      ]
    },
    {
      "cell_type": "code",
      "metadata": {
        "id": "WX8mP6E4RqYZ"
      },
      "source": [
        ""
      ],
      "execution_count": null,
      "outputs": []
    }
  ]
}