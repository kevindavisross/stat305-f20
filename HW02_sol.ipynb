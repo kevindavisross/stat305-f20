{
  "nbformat": 4,
  "nbformat_minor": 0,
  "metadata": {
    "kernelspec": {
      "display_name": "Python 3",
      "language": "python",
      "name": "python3"
    },
    "language_info": {
      "codemirror_mode": {
        "name": "ipython",
        "version": 3
      },
      "file_extension": ".py",
      "mimetype": "text/x-python",
      "name": "python",
      "nbconvert_exporter": "python",
      "pygments_lexer": "ipython3",
      "version": "3.7.6"
    },
    "colab": {
      "name": "HW02-sol.ipynb",
      "provenance": [],
      "include_colab_link": true
    }
  },
  "cells": [
    {
      "cell_type": "markdown",
      "metadata": {
        "id": "view-in-github",
        "colab_type": "text"
      },
      "source": [
        "<a href=\"https://colab.research.google.com/github/kevindavisross/stat305-f20/blob/master/HW02_sol.ipynb\" target=\"_parent\"><img src=\"https://colab.research.google.com/assets/colab-badge.svg\" alt=\"Open In Colab\"/></a>"
      ]
    },
    {
      "cell_type": "markdown",
      "metadata": {
        "id": "91nWjdZE6Jcz"
      },
      "source": [
        "# Stat 305 HW2, Part II"
      ]
    },
    {
      "cell_type": "markdown",
      "metadata": {
        "id": "tx1ZTA836Jc2"
      },
      "source": [
        "**TYPE YOUR NAME(S) HERE.** I encourage you to work with a partner; submit one per team."
      ]
    },
    {
      "cell_type": "markdown",
      "metadata": {
        "id": "fo08abfd6Jc3"
      },
      "source": [
        "## Introduction\n",
        "\n",
        "This Colab/Jupyter notebook provides a template for you to fill in. **Read the notebook from start to finish, completing the parts as indicated.**  To run a cell, make sure the cell is highlighted by clicking on it, then press SHIFT + ENTER on your keyboard.  (Alternatively, you can click the \"play\" button.)\n",
        "\n",
        "Some code has already been provided.  Be sure to run this code and view the output to understand what it does.  In other parts, you will need to provide the code yourself; use the examples in the textbook as a guide. \n",
        "\n",
        "You will use the Python package [Symbulate](https://github.com/dlsun/symbulate).  A few specific links to the documentation are provided below.  **You should use only use Symbulate commands, not general Python code.**"
      ]
    },
    {
      "cell_type": "markdown",
      "metadata": {
        "id": "4KBi-EKG6Jc4"
      },
      "source": [
        "Be sure to run the following lines first."
      ]
    },
    {
      "cell_type": "code",
      "metadata": {
        "id": "UrtWPTTu6Jc4",
        "outputId": "e7c576bf-339f-41d6-c90f-dc943102f032",
        "colab": {
          "base_uri": "https://localhost:8080/",
          "height": 188
        }
      },
      "source": [
        "!pip install symbulate"
      ],
      "execution_count": null,
      "outputs": [
        {
          "output_type": "stream",
          "text": [
            "Requirement already satisfied: symbulate in /usr/local/lib/python3.6/dist-packages (0.5.7)\n",
            "Requirement already satisfied: scipy in /usr/local/lib/python3.6/dist-packages (from symbulate) (1.4.1)\n",
            "Requirement already satisfied: matplotlib in /usr/local/lib/python3.6/dist-packages (from symbulate) (3.2.2)\n",
            "Requirement already satisfied: numpy in /usr/local/lib/python3.6/dist-packages (from symbulate) (1.18.5)\n",
            "Requirement already satisfied: pyparsing!=2.0.4,!=2.1.2,!=2.1.6,>=2.0.1 in /usr/local/lib/python3.6/dist-packages (from matplotlib->symbulate) (2.4.7)\n",
            "Requirement already satisfied: cycler>=0.10 in /usr/local/lib/python3.6/dist-packages (from matplotlib->symbulate) (0.10.0)\n",
            "Requirement already satisfied: python-dateutil>=2.1 in /usr/local/lib/python3.6/dist-packages (from matplotlib->symbulate) (2.8.1)\n",
            "Requirement already satisfied: kiwisolver>=1.0.1 in /usr/local/lib/python3.6/dist-packages (from matplotlib->symbulate) (1.2.0)\n",
            "Requirement already satisfied: six in /usr/local/lib/python3.6/dist-packages (from cycler>=0.10->matplotlib->symbulate) (1.15.0)\n"
          ],
          "name": "stdout"
        }
      ]
    },
    {
      "cell_type": "code",
      "metadata": {
        "id": "xGMggO0C6Jc-"
      },
      "source": [
        "from symbulate import *\n",
        "%matplotlib inline"
      ],
      "execution_count": null,
      "outputs": []
    },
    {
      "cell_type": "markdown",
      "metadata": {
        "id": "AXR3ZaUa6JdB"
      },
      "source": [
        "## A few notes about Colab/Jupyter notebooks\n",
        "\n",
        "- Each cell contains either Code or text (Markdown)\n",
        "- You can run an individual cell by clicking on it and holding SHIFT-ENTER or by clicking the play button.  Any output from the cell will be displayed underneath it.\n",
        "- Cells are evaluated in the order in which you run them.  After a cell is run it should have `Out[xx]` to the left, indicating the order in which the cells were run.\n",
        "- When you select \"Run all\", cells will be evaluated in sequence starting with the first cell at the top of the notebook.\n",
        "- You can use objects evaluted in one cell in others.  Just keep in mind that cells are evaluated in order.  So if you call something `x` in one cell, but redefine `x` as something else in another cell, it's essential that you evaluate the cells in the proper order.\n",
        "- Any plots should be displayed automatically (as long as you run the `%matplotlib inline` command).\n",
        "- While all the code in a cell is evaluated, only the output of the last line of code in a cell is displayed automatically (aside from plots).  If you want to display multiple pieces of output, you can either use `print` or just add cells and put each line in a separate cell. \n",
        "- You can add cells with Insert or with the + sign on the menu,\n"
      ]
    },
    {
      "cell_type": "markdown",
      "metadata": {
        "id": "c9ewpa6H6JdC"
      },
      "source": [
        "## 1. Collector problem"
      ]
    },
    {
      "cell_type": "markdown",
      "metadata": {
        "id": "SRkRAFqp6JdC"
      },
      "source": [
        "Each box of a certain type of cereal contains one of $n$ distinct prizes and you want to obtain a complete set. Suppose that each box of cereal is equally likely to contain any one of the $n$ prizes, and the particular prize\n",
        "that appears in one box has no bearing on the prize that appears in another box. You purchase\n",
        "cereal boxes one box at a time until you have the complete set of $n$ prizes. \n",
        "\n",
        "Let $X$ be the total number of boxes needed to be purchased to obtain a complete set of the $n$ prizes.\n",
        "\n",
        "We will assume $n=10$.  But you can easily change this parameter to see how various quantities change.  Note: since Python uses zero-based indexing, we will label the 10 prizes 0, 1, ..., 9; `prizes` below is just a list of the prize labels."
      ]
    },
    {
      "cell_type": "code",
      "metadata": {
        "id": "BrrOR4wU6JdD",
        "outputId": "e266a51c-4718-422f-c4e0-34d640c3d507",
        "colab": {
          "base_uri": "https://localhost:8080/",
          "height": 34
        }
      },
      "source": [
        "n = 10\n",
        "prizes = list(range(n))\n",
        "prizes"
      ],
      "execution_count": null,
      "outputs": [
        {
          "output_type": "execute_result",
          "data": {
            "text/plain": [
              "[0, 1, 2, 3, 4, 5, 6, 7, 8, 9]"
            ]
          },
          "metadata": {
            "tags": []
          },
          "execution_count": 3
        }
      ]
    },
    {
      "cell_type": "markdown",
      "metadata": {
        "id": "ZX30h9QK6JdH"
      },
      "source": [
        "Before proceeding, make some guesses for how you would expect $X$ to behave.  What is the smallest possible value?  The largest?  What values would be more/less likely?  (Nothing to write up, it's just always a good idea to think about things before plugging away.)"
      ]
    },
    {
      "cell_type": "markdown",
      "metadata": {
        "id": "kf385r9O6JdH"
      },
      "source": [
        "The probability space could be represented as the sequence of prizes obtained.  (In the first box I got prize 3, in the second box I got prize 1, in the third box I got prize 3 (again), etc.)  While technically you would stop buying prizes when you get a complete set, it is convenient to imagine that you keep buying boxes forever.  This way, all outcomes in the probability space would have the same \"length\".  Also, you could use such a probability space to investigate other problems too (e.g., the number of boxes purchased until $r$ complete sets are obtained, for any $r$ instead of just $r=1$).\n",
        "\n",
        "Define a probability space `P` in which an outcome corresponds to an infinite sequence of prizes.  (Hint: use [`BoxModel`](https://dlsun.github.io/symbulate/probspace.html#boxmodel) with`prizes` as the tickets and `size=inf`.  Remember `replace=True` is the default.)"
      ]
    },
    {
      "cell_type": "code",
      "metadata": {
        "id": "7CX7WDGJ6JdI"
      },
      "source": [
        "# Enter your Symbulate code here."
      ],
      "execution_count": null,
      "outputs": []
    },
    {
      "cell_type": "code",
      "metadata": {
        "id": "aDlskIL46fJD"
      },
      "source": [
        "P = BoxModel(prizes, size = inf)"
      ],
      "execution_count": null,
      "outputs": []
    },
    {
      "cell_type": "markdown",
      "metadata": {
        "id": "vATCtRa86JdL"
      },
      "source": [
        "Simulate a few outcomes from `P`."
      ]
    },
    {
      "cell_type": "code",
      "metadata": {
        "id": "HL6K6sJG6JdM"
      },
      "source": [
        "# Enter your Symbulate code here."
      ],
      "execution_count": null,
      "outputs": []
    },
    {
      "cell_type": "code",
      "metadata": {
        "id": "Q3gxKfSh6j4E",
        "outputId": "38498b2e-7c95-4add-efdd-4fae4c4abd78",
        "colab": {
          "base_uri": "https://localhost:8080/",
          "height": 258
        }
      },
      "source": [
        "P.sim(10)"
      ],
      "execution_count": null,
      "outputs": [
        {
          "output_type": "execute_result",
          "data": {
            "text/html": [
              "\n",
              "    <table>\n",
              "      <thead>\n",
              "        <th width=\"10%\">Index</th>\n",
              "        <th width=\"90%\">Result</th>\n",
              "      </thead>\n",
              "      <tbody>\n",
              "        \n",
              "        <tr>\n",
              "          <td>0</td><td>(2, 0, 4, 6, 1, 8, ...)</td>\n",
              "        </tr>\n",
              "        \n",
              "        <tr>\n",
              "          <td>1</td><td>(5, 7, 2, 9, 2, 3, ...)</td>\n",
              "        </tr>\n",
              "        \n",
              "        <tr>\n",
              "          <td>2</td><td>(7, 5, 6, 2, 8, 9, ...)</td>\n",
              "        </tr>\n",
              "        \n",
              "        <tr>\n",
              "          <td>3</td><td>(7, 3, 0, 8, 8, 5, ...)</td>\n",
              "        </tr>\n",
              "        \n",
              "        <tr>\n",
              "          <td>4</td><td>(6, 9, 4, 4, 6, 6, ...)</td>\n",
              "        </tr>\n",
              "        \n",
              "        <tr>\n",
              "          <td>5</td><td>(0, 4, 9, 1, 0, 2, ...)</td>\n",
              "        </tr>\n",
              "        \n",
              "        <tr>\n",
              "          <td>6</td><td>(5, 7, 0, 9, 1, 8, ...)</td>\n",
              "        </tr>\n",
              "        \n",
              "        <tr>\n",
              "          <td>7</td><td>(5, 2, 7, 4, 2, 4, ...)</td>\n",
              "        </tr>\n",
              "        \n",
              "        <tr>\n",
              "          <td>8</td><td>(8, 8, 2, 2, 3, 5, ...)</td>\n",
              "        </tr>\n",
              "        <tr><td>...</td><td>...</td></tr>\n",
              "        <tr>\n",
              "          <td>9</td><td>(7, 2, 2, 0, 7, 4, ...)</td>\n",
              "        </tr>\n",
              "        \n",
              "      </tbody>\n",
              "    </table>\n",
              "        "
            ],
            "text/plain": [
              "Index Result\n",
              "0     (2, 0, 4, 6, 1, 8, ...)\n",
              "1     (5, 7, 2, 9, 2, 3, ...)\n",
              "2     (7, 5, 6, 2, 8, 9, ...)\n",
              "3     (7, 3, 0, 8, 8, 5, ...)\n",
              "4     (6, 9, 4, 4, 6, 6, ...)\n",
              "5     (0, 4, 9, 1, 0, 2, ...)\n",
              "6     (5, 7, 0, 9, 1, 8, ...)\n",
              "7     (5, 2, 7, 4, 2, 4, ...)\n",
              "8     (8, 8, 2, 2, 3, 5, ...)\n",
              "9     (7, 2, 2, 0, 7, 4, ...)"
            ]
          },
          "metadata": {
            "tags": []
          },
          "execution_count": 7
        }
      ]
    },
    {
      "cell_type": "markdown",
      "metadata": {
        "id": "-wVxOvOJ6JdQ"
      },
      "source": [
        "Remember that a random variable is a function defined on the probability space.  We have seen how simple built-in functions like `sum` and `max` were used to define `RV`s.  But it is also possible to program your own functions to use in defining Symbulate random variables, e.g., `X=RV(P, custom_function)`.  You just need to make sure that the function you write takes as an input an object corresponding to the output of the probability space `P`.\n",
        "\n",
        "The custom function `number_prizes_until_complete_set`, defined using Python code below, takes as an input a sequence of prizes (each prize labeled with a number 0 through 9) and returns how many boxes needed to be purchased until a complete set was obtained.  For now, you don't need to worry too much about the Python code.  Just know that the function does what it's supposed to do."
      ]
    },
    {
      "cell_type": "code",
      "metadata": {
        "id": "nSvoa0YJ6JdQ",
        "outputId": "e83e00e8-0545-4c66-8439-cd6da95884fb",
        "colab": {
          "base_uri": "https://localhost:8080/",
          "height": 34
        }
      },
      "source": [
        "def number_prizes_until_complete_set(outcome):\n",
        "    prizes_so_far = []\n",
        "    for trial, result in enumerate(outcome):\n",
        "        prizes_so_far.append(result)\n",
        "        if len(set(prizes_so_far)) == n:\n",
        "            return trial + 1 # +1 is need for zero-indexing; the first prize is 0th prize in Python\n",
        "\n",
        "# for the outcome below, the set is completed when you get prize 7 on box 19 (with usual non-Python indexing)\n",
        "outcome = (3, 4, 3, 0, 1, 6, 5, 3, 2, 4, 5, 6, 9, 8, 3, 4, 5, 6, 7, 3, 3, 3)  \n",
        "number_prizes_until_complete_set(outcome)"
      ],
      "execution_count": null,
      "outputs": [
        {
          "output_type": "execute_result",
          "data": {
            "text/plain": [
              "19"
            ]
          },
          "metadata": {
            "tags": []
          },
          "execution_count": 8
        }
      ]
    },
    {
      "cell_type": "markdown",
      "metadata": {
        "id": "c4-TJ0g-6JdU"
      },
      "source": [
        "Use the `number_prizes_until_complete_set` function to define a `RV` `X` on the probability space `P` that you defined above."
      ]
    },
    {
      "cell_type": "code",
      "metadata": {
        "id": "0BFicLu46JdU"
      },
      "source": [
        "### Enter your Symbulate commands here."
      ],
      "execution_count": null,
      "outputs": []
    },
    {
      "cell_type": "code",
      "metadata": {
        "id": "j_MHhHcU6n_a"
      },
      "source": [
        "X = RV(P, number_prizes_until_complete_set)"
      ],
      "execution_count": null,
      "outputs": []
    },
    {
      "cell_type": "markdown",
      "metadata": {
        "id": "CKiGT_KY6JdY"
      },
      "source": [
        "Find the value of `X` for the following outcome; it should be 19."
      ]
    },
    {
      "cell_type": "code",
      "metadata": {
        "id": "lsO1BjZ76JdZ"
      },
      "source": [
        "outcome = (3, 4, 3, 0, 1, 6, 5, 3, 2, 4, 5, 6, 9, 8, 3, 4, 5, 6, 7, 3, 3, 3) \n",
        "# Enter your Symbulate code here."
      ],
      "execution_count": null,
      "outputs": []
    },
    {
      "cell_type": "code",
      "metadata": {
        "id": "BRGR4Hjp6tHw",
        "outputId": "95439bf3-ac61-40e6-9a0c-272c9dc9b7e7",
        "colab": {
          "base_uri": "https://localhost:8080/",
          "height": 70
        }
      },
      "source": [
        "X(outcome)"
      ],
      "execution_count": null,
      "outputs": [
        {
          "output_type": "stream",
          "text": [
            "Warning: Calling an RV as a function simply applies the function that defines the RV to the input, regardless of whether that input is a possible outcome in the underlying probability space.\n"
          ],
          "name": "stdout"
        },
        {
          "output_type": "execute_result",
          "data": {
            "text/plain": [
              "19"
            ]
          },
          "metadata": {
            "tags": []
          },
          "execution_count": 12
        }
      ]
    },
    {
      "cell_type": "markdown",
      "metadata": {
        "id": "om4Z903a6Jdc"
      },
      "source": [
        "Simulate 10000 values of `X` and store the values in a variable `x`."
      ]
    },
    {
      "cell_type": "code",
      "metadata": {
        "id": "9iVBDoTq6Jdc"
      },
      "source": [
        "# Enter your Symbulate code here."
      ],
      "execution_count": null,
      "outputs": []
    },
    {
      "cell_type": "code",
      "metadata": {
        "id": "dWO0zk7g6xBt"
      },
      "source": [
        "x = X.sim(10000)"
      ],
      "execution_count": null,
      "outputs": []
    },
    {
      "cell_type": "markdown",
      "metadata": {
        "id": "QlDBxbmG6Jdg"
      },
      "source": [
        "Summarize the simulated values of `X` in a table."
      ]
    },
    {
      "cell_type": "code",
      "metadata": {
        "id": "LRCP2noV6Jdh"
      },
      "source": [
        "# Enter your Symbulate code here."
      ],
      "execution_count": null,
      "outputs": []
    },
    {
      "cell_type": "code",
      "metadata": {
        "id": "O5fD_56_6zzV",
        "outputId": "c5e51597-745e-4f02-b286-d6ba1fa84d99",
        "colab": {
          "base_uri": "https://localhost:8080/",
          "height": 478
        }
      },
      "source": [
        "x.tabulate()"
      ],
      "execution_count": null,
      "outputs": [
        {
          "output_type": "execute_result",
          "data": {
            "text/html": [
              "\n",
              "<table>\n",
              "  <thead>\n",
              "    <th width=\"80%\">Value</th>\n",
              "    <th width=\"20%\">Frequency</th>\n",
              "  </thead>\n",
              "  <tbody>\n",
              "    <tr><td>10</td><td>4</td></tr><tr><td>11</td><td>13</td></tr><tr><td>12</td><td>41</td></tr><tr><td>13</td><td>81</td></tr><tr><td>14</td><td>131</td></tr><tr><td>15</td><td>169</td></tr><tr><td>16</td><td>247</td></tr><tr><td>17</td><td>285</td></tr><tr><td>18</td><td>307</td></tr><tr><td>19</td><td>382</td></tr><tr><td>20</td><td>463</td></tr><tr><td>21</td><td>424</td></tr><tr><td>22</td><td>448</td></tr><tr><td>23</td><td>500</td></tr><tr><td>24</td><td>449</td></tr><tr><td>25</td><td>444</td></tr><tr><td>26</td><td>430</td></tr><tr><td>27</td><td>406</td></tr><tr><td>28</td><td>362</td></tr><tr><td>...</td><td>...</td></tr><tr><td>133</td><td>1</td></tr><tr><td><b>Total</b></td><td><b>10000</b></td></tr>\n",
              "  </tbody>\n",
              "</table>\n"
            ],
            "text/plain": [
              "Value Frequency\n",
              "10    4\n",
              "11    13\n",
              "12    41\n",
              "13    81\n",
              "14    131\n",
              "15    169\n",
              "16    247\n",
              "17    285\n",
              "18    307\n",
              "19    382\n",
              "20    463\n",
              "21    424\n",
              "22    448\n",
              "23    500\n",
              "24    449\n",
              "25    444\n",
              "26    430\n",
              "27    406\n",
              "28    362\n",
              "...    .\n",
              "133    1\n",
              "Total 10000"
            ]
          },
          "metadata": {
            "tags": []
          },
          "execution_count": 16
        }
      ]
    },
    {
      "cell_type": "markdown",
      "metadata": {
        "id": "fBSE-hgp6Jdk"
      },
      "source": [
        "Summarize the simulated values of `X` in a plot."
      ]
    },
    {
      "cell_type": "code",
      "metadata": {
        "id": "qoQlziE16Jdl"
      },
      "source": [
        "# Enter your Symbulate code here."
      ],
      "execution_count": null,
      "outputs": []
    },
    {
      "cell_type": "code",
      "metadata": {
        "id": "HxiLiOr262wd",
        "outputId": "da580de0-7a7d-4c36-85fd-8a9d82253ea9",
        "colab": {
          "base_uri": "https://localhost:8080/",
          "height": 265
        }
      },
      "source": [
        "x.plot()"
      ],
      "execution_count": null,
      "outputs": [
        {
          "output_type": "display_data",
          "data": {
            "image/png": "[encoded data removed]",
            "text/plain": [
              "<Figure size 432x288 with 1 Axes>"
            ]
          },
          "metadata": {
            "tags": [],
            "needs_background": "light"
          }
        }
      ]
    },
    {
      "cell_type": "markdown",
      "metadata": {
        "id": "qdFH0C5m6Jdq"
      },
      "source": [
        "Use the simulation results to estimate $P(X > 40)$ by finding the corresponding simulated relative frequency.  Enter the appropriate Symbulate commands below; don't just use the above table and a calculator.  (There are a few ways to do this, and you might want to try a couple.  [Hints](https://dlsun.github.io/symbulate/sim.html#recap).)"
      ]
    },
    {
      "cell_type": "code",
      "metadata": {
        "id": "g8KfYn0m6Jdq"
      },
      "source": [
        "# Enter your Symbulate code here."
      ],
      "execution_count": null,
      "outputs": []
    },
    {
      "cell_type": "code",
      "metadata": {
        "id": "qy7DxsQ265xX",
        "outputId": "b4d57b06-46e0-45bc-8910-0bdbbecf25b3",
        "colab": {
          "base_uri": "https://localhost:8080/",
          "height": 34
        }
      },
      "source": [
        "x.count_gt(40) / x.count()"
      ],
      "execution_count": null,
      "outputs": [
        {
          "output_type": "execute_result",
          "data": {
            "text/plain": [
              "0.1384"
            ]
          },
          "metadata": {
            "tags": []
          },
          "execution_count": 20
        }
      ]
    },
    {
      "cell_type": "markdown",
      "metadata": {
        "id": "wL8bg5k76Jdu"
      },
      "source": [
        "Compute the average (a.k.a. mean) of the simulated values of `X`. "
      ]
    },
    {
      "cell_type": "code",
      "metadata": {
        "id": "UUtbRNFT6Jdv"
      },
      "source": [
        "# Enter your Symbulate code here."
      ],
      "execution_count": null,
      "outputs": []
    },
    {
      "cell_type": "code",
      "metadata": {
        "id": "Se6JXnUM6-N8",
        "outputId": "af2044d2-f74d-48f1-8618-533090161188",
        "colab": {
          "base_uri": "https://localhost:8080/",
          "height": 34
        }
      },
      "source": [
        "x.mean()"
      ],
      "execution_count": null,
      "outputs": [
        {
          "output_type": "execute_result",
          "data": {
            "text/plain": [
              "29.2565"
            ]
          },
          "metadata": {
            "tags": []
          },
          "execution_count": 22
        }
      ]
    },
    {
      "cell_type": "markdown",
      "metadata": {
        "id": "plXCWBSO6Jdx"
      },
      "source": [
        "Compute the standard deviation (sd) of the simulated values."
      ]
    },
    {
      "cell_type": "code",
      "metadata": {
        "id": "P2VZMFY76Jd0"
      },
      "source": [
        "# Enter your Symbulate code here."
      ],
      "execution_count": null,
      "outputs": []
    },
    {
      "cell_type": "code",
      "metadata": {
        "id": "_ugEAFC17BF0",
        "outputId": "2f17a5f7-06db-462c-dbfe-98ca0edd0725",
        "colab": {
          "base_uri": "https://localhost:8080/",
          "height": 34
        }
      },
      "source": [
        "x.sd()"
      ],
      "execution_count": null,
      "outputs": [
        {
          "output_type": "execute_result",
          "data": {
            "text/plain": [
              "11.146035517169322"
            ]
          },
          "metadata": {
            "tags": []
          },
          "execution_count": 24
        }
      ]
    },
    {
      "cell_type": "markdown",
      "metadata": {
        "id": "9_JqkFr26Jd3"
      },
      "source": [
        "Write a few sentences, in the context of the collector problem, describing the behavior of $X$ when $n=10$ "
      ]
    },
    {
      "cell_type": "markdown",
      "metadata": {
        "id": "Xe2eZMmD6Jd4"
      },
      "source": [
        "**TYPE YOUR RESPONSE HERE.**"
      ]
    },
    {
      "cell_type": "markdown",
      "metadata": {
        "id": "fimvisgi7H67"
      },
      "source": [
        "The distribution is skewed to the right with a mean of about 29 prizes and a SD of about 11 prizes.  Values around 25 or so are most likely.  The smallest possible value of X is 10.  X can take some extremely large values, but the probability that X is above 60 or so is pretty small."
      ]
    },
    {
      "cell_type": "markdown",
      "metadata": {
        "id": "9Hfu2HhO6Jd5"
      },
      "source": [
        "This is all you're required to do for Problem 1.  But I would encourage you to play around with the problem.  What happens as you change $n$?  What other random variables might you be interested in, and how might you simulate/program them?"
      ]
    },
    {
      "cell_type": "markdown",
      "metadata": {
        "id": "q_HRxHYg6Jd5"
      },
      "source": [
        "## 2. Distributions of functions of Bivariate Normal random variables"
      ]
    },
    {
      "cell_type": "markdown",
      "metadata": {
        "id": "Dj2r6ohv6Jd6"
      },
      "source": [
        "Let $X$ be the Math score and $Y$ be the Reading score of a randomly selected SAT taker.  We'll assume $(X, Y)$ pairs follow a Bivariate Normal distribution as in [Section 3.9](https://bookdown.org/kevin_davisross/probsim-book/sec-example-sat-both.html) of the textbook.\n",
        "\n",
        "- Math scores ($X$) have mean 527 and standard deviation 107\n",
        "- Reading scores ($Y$) have mean 533 and standard deviation 100\n",
        "- We will investigate different values of correlation.  (We will see correlation in more detail later.  For now, just know that correlation is one way to measure the strength of the association between two random variables.)\n",
        "\n",
        "We will use simulation to investigate how changing correlation affects the long run average and SD of\n",
        "\n",
        "- Total score: $T = X + Y$\n",
        "- Difference in scores: $W = X - Y$\n",
        "- Larger score: $V = \\max(X, Y)$"
      ]
    },
    {
      "cell_type": "markdown",
      "metadata": {
        "id": "HaS9TNQS6Jd7"
      },
      "source": [
        "### a) For each of the following scenarios, simulate many $(X, Y)$ pairs and plot them\n",
        "\n",
        "   - Scatter plot is the default `plot` for pairs of values.\n",
        "   - You can also try a two-dimensional histogram using `plot('hist')`; ignore any error messages that pop up.\n",
        "   - You can also try `plot('density')` which plots a smooth density surface over the pairs of possible values with color intensity representing relative height, but this sometimes take a minute to run."
      ]
    },
    {
      "cell_type": "markdown",
      "metadata": {
        "id": "FgftJdg56Jd8"
      },
      "source": [
        "#### (1) Correlation = 0"
      ]
    },
    {
      "cell_type": "code",
      "metadata": {
        "id": "dVEoTUKW6Jd8"
      },
      "source": [
        "# Enter your Symbulate code here.  Feel free to add cells as needed."
      ],
      "execution_count": null,
      "outputs": []
    },
    {
      "cell_type": "code",
      "metadata": {
        "id": "VrTN-nCr7m4B",
        "outputId": "20ce016d-a0b5-4c2c-c8af-b4c973604137",
        "colab": {
          "base_uri": "https://localhost:8080/",
          "height": 282
        }
      },
      "source": [
        "rho = 0\n",
        "\n",
        "X, Y = RV(BivariateNormal(mean1 = 527, sd1 = 107, mean2 = 533, sd2 = 100, corr = rho))\n",
        "\n",
        "(X & Y).sim(10000).plot('density')"
      ],
      "execution_count": null,
      "outputs": [
        {
          "output_type": "display_data",
          "data": {
            "image/png": "[encoded data removed]",
            "text/plain": [
              "<Figure size 432x288 with 2 Axes>"
            ]
          },
          "metadata": {
            "tags": [],
            "needs_background": "light"
          }
        }
      ]
    },
    {
      "cell_type": "markdown",
      "metadata": {
        "id": "fGr4ZJvY6Jd_"
      },
      "source": [
        "#### (2) Correlation = 0.77"
      ]
    },
    {
      "cell_type": "code",
      "metadata": {
        "id": "o-R8r8UM6Jd_"
      },
      "source": [
        "# Enter your Symbulate code here.  Feel free to add cells as needed."
      ],
      "execution_count": null,
      "outputs": []
    },
    {
      "cell_type": "code",
      "metadata": {
        "id": "o-9eKYSj78bZ",
        "outputId": "657adb50-7d79-48fd-f6de-0314ba7ebb33",
        "colab": {
          "base_uri": "https://localhost:8080/",
          "height": 282
        }
      },
      "source": [
        "rho = 0.77\n",
        "\n",
        "X, Y = RV(BivariateNormal(mean1 = 527, sd1 = 107, mean2 = 533, sd2 = 100, corr = rho))\n",
        "\n",
        "(X & Y).sim(10000).plot('density')"
      ],
      "execution_count": null,
      "outputs": [
        {
          "output_type": "display_data",
          "data": {
            "image/png": "[encoded data removed]",
            "text/plain": [
              "<Figure size 432x288 with 2 Axes>"
            ]
          },
          "metadata": {
            "tags": [],
            "needs_background": "light"
          }
        }
      ]
    },
    {
      "cell_type": "markdown",
      "metadata": {
        "id": "yS3Wv_dp6JeC"
      },
      "source": [
        "#### (3) Correlation = 0.40"
      ]
    },
    {
      "cell_type": "code",
      "metadata": {
        "id": "pQUzRFzu6JeC"
      },
      "source": [
        "# Enter your Symbulate code here.  Feel free to add cells as needed."
      ],
      "execution_count": null,
      "outputs": []
    },
    {
      "cell_type": "code",
      "metadata": {
        "id": "Y57r7RBK8F1s",
        "outputId": "0a1a9961-671e-4ca1-c088-c137f0dd7ed6",
        "colab": {
          "base_uri": "https://localhost:8080/",
          "height": 282
        }
      },
      "source": [
        "rho = 0.40\n",
        "\n",
        "X, Y = RV(BivariateNormal(mean1 = 527, sd1 = 107, mean2 = 533, sd2 = 100, corr = rho))\n",
        "\n",
        "(X & Y).sim(10000).plot('density')"
      ],
      "execution_count": null,
      "outputs": [
        {
          "output_type": "display_data",
          "data": {
            "image/png": "[encoded data removed]",
            "text/plain": [
              "<Figure size 432x288 with 2 Axes>"
            ]
          },
          "metadata": {
            "tags": [],
            "needs_background": "light"
          }
        }
      ]
    },
    {
      "cell_type": "markdown",
      "metadata": {
        "id": "rXm_u_hl6JeE"
      },
      "source": [
        "#### (4) Correlation = -0.77"
      ]
    },
    {
      "cell_type": "code",
      "metadata": {
        "id": "Obf_Yskv6JeF"
      },
      "source": [
        "# Enter your Symbulate code here.  Feel free to add cells as needed."
      ],
      "execution_count": null,
      "outputs": []
    },
    {
      "cell_type": "code",
      "metadata": {
        "id": "AkqZVEsJ8LL8",
        "outputId": "d5d9f02e-926d-4b9f-c667-361bc2d877a1",
        "colab": {
          "base_uri": "https://localhost:8080/",
          "height": 282
        }
      },
      "source": [
        "rho = -0.77\n",
        "\n",
        "X, Y = RV(BivariateNormal(mean1 = 527, sd1 = 107, mean2 = 533, sd2 = 100, corr = rho))\n",
        "\n",
        "(X & Y).sim(10000).plot('density')"
      ],
      "execution_count": null,
      "outputs": [
        {
          "output_type": "display_data",
          "data": {
            "image/png": "[encoded data removed]",
            "text/plain": [
              "<Figure size 432x288 with 2 Axes>"
            ]
          },
          "metadata": {
            "tags": [],
            "needs_background": "light"
          }
        }
      ]
    },
    {
      "cell_type": "markdown",
      "metadata": {
        "id": "rBvYFKGF6JeH"
      },
      "source": [
        "### a) Total score: $T = X+ Y$\n",
        "\n",
        "For each of the following scenarios\n",
        "\n",
        "1. Simulate many values of $T = X+Y$ and plot them\n",
        "1. Approximate the long run average of $T$.  How does it relate to the sum of the long run averages of $X$ and $Y$? (Greater/less/equal)\n",
        "1. Approximate the variance of $T$.  How does it relate to the sum of the variances of $X$ and $Y$?  (Greater/less/equal).  (Remember, SD is just the square root of variance.)\n",
        "1. Approximate the SD of $T$.  How does it relate to the sum of the SDs of $X$ and $Y$?  (Greater/less/equal)"
      ]
    },
    {
      "cell_type": "markdown",
      "metadata": {
        "id": "6AEuF_116JeI"
      },
      "source": [
        "#### (1) Correlation = 0"
      ]
    },
    {
      "cell_type": "code",
      "metadata": {
        "id": "kIs8pN5o6JeJ"
      },
      "source": [
        "# Enter your Symbulate code here.  Feel free to add cells as needed."
      ],
      "execution_count": null,
      "outputs": []
    },
    {
      "cell_type": "code",
      "metadata": {
        "id": "u-uvCNGC8OjO",
        "outputId": "d3d8fcf1-484b-4516-a604-de96d7f51905",
        "colab": {
          "base_uri": "https://localhost:8080/",
          "height": 282
        }
      },
      "source": [
        "rho = 0.40\n",
        "\n",
        "X, Y = RV(BivariateNormal(mean1 = 527, sd1 = 107, mean2 = 533, sd2 = 100, corr = rho))\n",
        "\n",
        "T = X + Y\n",
        "\n",
        "t = T.sim(10000)\n",
        "\n",
        "t.plot()\n",
        "\n",
        "t.mean(), t.var(), t.sd()"
      ],
      "execution_count": null,
      "outputs": [
        {
          "output_type": "execute_result",
          "data": {
            "text/plain": [
              "(1059.9598339400902, 30221.10786423485, 173.84219241667097)"
            ]
          },
          "metadata": {
            "tags": []
          },
          "execution_count": 34
        },
        {
          "output_type": "display_data",
          "data": {
            "image/png": "[encoded data removed]",
            "text/plain": [
              "<Figure size 432x288 with 1 Axes>"
            ]
          },
          "metadata": {
            "tags": [],
            "needs_background": "light"
          }
        }
      ]
    },
    {
      "cell_type": "markdown",
      "metadata": {
        "id": "5ETW7vLG6JeO"
      },
      "source": [
        "#### (2) Correlation = 0.77"
      ]
    },
    {
      "cell_type": "code",
      "metadata": {
        "id": "oGfRBz1w6JeP"
      },
      "source": [
        "# Enter your Symbulate code here.  Feel free to add cells as needed."
      ],
      "execution_count": null,
      "outputs": []
    },
    {
      "cell_type": "code",
      "metadata": {
        "id": "LvaYnCJI8e2p",
        "outputId": "7d80df3b-8e17-4399-fcaf-647d663b6f8f",
        "colab": {
          "base_uri": "https://localhost:8080/",
          "height": 282
        }
      },
      "source": [
        "rho = 0.77\n",
        "\n",
        "X, Y = RV(BivariateNormal(mean1 = 527, sd1 = 107, mean2 = 533, sd2 = 100, corr = rho))\n",
        "\n",
        "T = X + Y\n",
        "\n",
        "t = T.sim(10000)\n",
        "\n",
        "t.plot()\n",
        "\n",
        "t.mean(), t.var(), t.sd()"
      ],
      "execution_count": null,
      "outputs": [
        {
          "output_type": "execute_result",
          "data": {
            "text/plain": [
              "(1061.1461844707467, 38374.44859737345, 195.89397284595933)"
            ]
          },
          "metadata": {
            "tags": []
          },
          "execution_count": 36
        },
        {
          "output_type": "display_data",
          "data": {
            "image/png": "[encoded data removed]",
            "text/plain": [
              "<Figure size 432x288 with 1 Axes>"
            ]
          },
          "metadata": {
            "tags": [],
            "needs_background": "light"
          }
        }
      ]
    },
    {
      "cell_type": "markdown",
      "metadata": {
        "id": "MR5a5MmI6JeS"
      },
      "source": [
        "#### (3) Correlation = 0.40"
      ]
    },
    {
      "cell_type": "code",
      "metadata": {
        "id": "3cYiId796JeT"
      },
      "source": [
        "# Enter your Symbulate code here.  Feel free to add cells as needed."
      ],
      "execution_count": null,
      "outputs": []
    },
    {
      "cell_type": "code",
      "metadata": {
        "id": "mKZsg8cy8hZ9",
        "outputId": "56b13e29-0782-472e-f678-0026020eb540",
        "colab": {
          "base_uri": "https://localhost:8080/",
          "height": 282
        }
      },
      "source": [
        "rho = 0.40\n",
        "\n",
        "X, Y = RV(BivariateNormal(mean1 = 527, sd1 = 107, mean2 = 533, sd2 = 100, corr = rho))\n",
        "\n",
        "T = X + Y\n",
        "\n",
        "t = T.sim(10000)\n",
        "\n",
        "t.plot()\n",
        "\n",
        "t.mean(), t.var(), t.sd()"
      ],
      "execution_count": null,
      "outputs": [
        {
          "output_type": "execute_result",
          "data": {
            "text/plain": [
              "(1059.2821105821033, 30685.78452727021, 175.17358398819786)"
            ]
          },
          "metadata": {
            "tags": []
          },
          "execution_count": 38
        },
        {
          "output_type": "display_data",
          "data": {
            "image/png": "[encoded data removed]",
            "text/plain": [
              "<Figure size 432x288 with 1 Axes>"
            ]
          },
          "metadata": {
            "tags": [],
            "needs_background": "light"
          }
        }
      ]
    },
    {
      "cell_type": "markdown",
      "metadata": {
        "id": "MqyNr41m6JeV"
      },
      "source": [
        "#### (4) Correlation = -0.77"
      ]
    },
    {
      "cell_type": "code",
      "metadata": {
        "id": "ZxxLABu16JeV"
      },
      "source": [
        "# Enter your Symbulate code here.  Feel free to add cells as needed."
      ],
      "execution_count": null,
      "outputs": []
    },
    {
      "cell_type": "code",
      "metadata": {
        "id": "ood9fC9n8j0d",
        "outputId": "0505e78d-4f9a-47eb-9947-a77321d7fcc0",
        "colab": {
          "base_uri": "https://localhost:8080/",
          "height": 282
        }
      },
      "source": [
        "rho = -0.77\n",
        "\n",
        "X, Y = RV(BivariateNormal(mean1 = 527, sd1 = 107, mean2 = 533, sd2 = 100, corr = rho))\n",
        "\n",
        "T = X + Y\n",
        "\n",
        "t = T.sim(10000)\n",
        "\n",
        "t.plot()\n",
        "\n",
        "t.mean(), t.var(), t.sd()"
      ],
      "execution_count": null,
      "outputs": [
        {
          "output_type": "execute_result",
          "data": {
            "text/plain": [
              "(1058.8263591497007, 4959.765094473879, 70.42559970972117)"
            ]
          },
          "metadata": {
            "tags": []
          },
          "execution_count": 40
        },
        {
          "output_type": "display_data",
          "data": {
            "image/png": "[encoded data removed]",
            "text/plain": [
              "<Figure size 432x288 with 1 Axes>"
            ]
          },
          "metadata": {
            "tags": [],
            "needs_background": "light"
          }
        }
      ]
    },
    {
      "cell_type": "markdown",
      "metadata": {
        "id": "fVpCRjqh6JeX"
      },
      "source": [
        "#### (5) Write a few sentences summarizing what you observe.  Describe the general shape of the distribution of $T$. How does correlation affect the long run average and SD of $T = X+ Y$?"
      ]
    },
    {
      "cell_type": "markdown",
      "metadata": {
        "id": "3ceIUUW36JeY"
      },
      "source": [
        "**TYPE YOUR RESPONSE HERE**"
      ]
    },
    {
      "cell_type": "markdown",
      "metadata": {
        "id": "pAh-CUcN8oIN"
      },
      "source": [
        "In each case\n",
        "\n",
        "- Shape is Normal\n",
        "- Mean is the sum of the means of X and Y\n",
        "\n",
        "But the variance and SD change based on the cases\n",
        "\n",
        "- When correlation is 0, the variance of X + Y is the sum of the variances\n",
        "- When correlation is positive, the variance of X + Y is greater than the sum of the variances\n",
        "- When correlation is negative, the variance of X + Y is less than the sum of the variances"
      ]
    },
    {
      "cell_type": "markdown",
      "metadata": {
        "id": "MdrVZoLE6JeY"
      },
      "source": [
        "### b) Difference in scores: $W = X - Y$\n",
        "\n",
        "For each of the following scenarios\n",
        "\n",
        "1. Simulate many values of $W = X-Y$ and plot them\n",
        "1. Approximate the long run average of $W$.  How does it relate to the sum of the long run averages of $X$ and $Y$? (Greater/less/equal)\n",
        "1. Approximate the variance of $W$.  How does it relate to the *sum* of the variances of $X$ and $Y$?  (Greater/less/equal).  (Remember, SD is just the square root of variance.)\n",
        "1. Approximate the SD of $W$.  How does it relate to the *sum* of the SDs of $X$ and $Y$?  (Greater/less/equal)"
      ]
    },
    {
      "cell_type": "markdown",
      "metadata": {
        "id": "mrAHRtQD6JeZ"
      },
      "source": [
        "#### (1) Correlation = 0"
      ]
    },
    {
      "cell_type": "code",
      "metadata": {
        "id": "h-fuzZ8J6Jeb"
      },
      "source": [
        "# Enter your Symbulate code here.  Feel free to add cells as needed."
      ],
      "execution_count": null,
      "outputs": []
    },
    {
      "cell_type": "code",
      "metadata": {
        "id": "SzsPv45c9ANP",
        "outputId": "24bfdff8-3f16-4a7e-cdf8-344ed9040c29",
        "colab": {
          "base_uri": "https://localhost:8080/",
          "height": 286
        }
      },
      "source": [
        "rho = 0\n",
        "\n",
        "X, Y = RV(BivariateNormal(mean1 = 527, sd1 = 107, mean2 = 533, sd2 = 100, corr = rho))\n",
        "\n",
        "W = X - Y\n",
        "\n",
        "w = W.sim(10000)\n",
        "\n",
        "w.plot()\n",
        "\n",
        "w.mean(), w.var(), w.sd()"
      ],
      "execution_count": null,
      "outputs": [
        {
          "output_type": "execute_result",
          "data": {
            "text/plain": [
              "(-6.42852621671491, 21066.989964779114, 145.1447207609671)"
            ]
          },
          "metadata": {
            "tags": []
          },
          "execution_count": 42
        },
        {
          "output_type": "display_data",
          "data": {
            "image/png": "[encoded data removed]",
            "text/plain": [
              "<Figure size 432x288 with 1 Axes>"
            ]
          },
          "metadata": {
            "tags": [],
            "needs_background": "light"
          }
        }
      ]
    },
    {
      "cell_type": "markdown",
      "metadata": {
        "id": "8gBnN82z6Jee"
      },
      "source": [
        "#### (2) Correlation = 0.77"
      ]
    },
    {
      "cell_type": "code",
      "metadata": {
        "id": "NfYamryR6Jef"
      },
      "source": [
        "# Enter your Symbulate code here.  Feel free to add cells as needed."
      ],
      "execution_count": null,
      "outputs": []
    },
    {
      "cell_type": "code",
      "metadata": {
        "id": "JJTjIT0Q9SLi",
        "outputId": "5889c1ef-f546-488a-800e-90056b96d174",
        "colab": {
          "base_uri": "https://localhost:8080/",
          "height": 282
        }
      },
      "source": [
        "rho = 0.77\n",
        "\n",
        "X, Y = RV(BivariateNormal(mean1 = 527, sd1 = 107, mean2 = 533, sd2 = 100, corr = rho))\n",
        "\n",
        "W = X - Y\n",
        "\n",
        "w = W.sim(10000)\n",
        "\n",
        "w.plot()\n",
        "\n",
        "w.mean(), w.var(), w.sd()"
      ],
      "execution_count": null,
      "outputs": [
        {
          "output_type": "execute_result",
          "data": {
            "text/plain": [
              "(-7.760707438872999, 5006.591569398603, 70.75727220151016)"
            ]
          },
          "metadata": {
            "tags": []
          },
          "execution_count": 44
        },
        {
          "output_type": "display_data",
          "data": {
            "image/png": "[encoded data removed]",
            "text/plain": [
              "<Figure size 432x288 with 1 Axes>"
            ]
          },
          "metadata": {
            "tags": [],
            "needs_background": "light"
          }
        }
      ]
    },
    {
      "cell_type": "markdown",
      "metadata": {
        "id": "7FaVkX5P6Jei"
      },
      "source": [
        "#### (3) Correlation = 0.40"
      ]
    },
    {
      "cell_type": "code",
      "metadata": {
        "id": "SlxjUP9Q6Jei"
      },
      "source": [
        "# Enter your Symbulate code here.  Feel free to add cells as needed."
      ],
      "execution_count": null,
      "outputs": []
    },
    {
      "cell_type": "code",
      "metadata": {
        "id": "FDNXbsZR9ViY",
        "outputId": "993f339c-a8fb-4260-bfc4-2bc4b372b9a7",
        "colab": {
          "base_uri": "https://localhost:8080/",
          "height": 282
        }
      },
      "source": [
        "rho = 0.40\n",
        "\n",
        "X, Y = RV(BivariateNormal(mean1 = 527, sd1 = 107, mean2 = 533, sd2 = 100, corr = rho))\n",
        "\n",
        "W = X - Y\n",
        "\n",
        "w = W.sim(10000)\n",
        "\n",
        "w.plot()\n",
        "\n",
        "w.mean(), w.var(), w.sd()"
      ],
      "execution_count": null,
      "outputs": [
        {
          "output_type": "execute_result",
          "data": {
            "text/plain": [
              "(-5.5195314720541075, 13165.500854117448, 114.74101644188728)"
            ]
          },
          "metadata": {
            "tags": []
          },
          "execution_count": 46
        },
        {
          "output_type": "display_data",
          "data": {
            "image/png": "[encoded data removed]",
            "text/plain": [
              "<Figure size 432x288 with 1 Axes>"
            ]
          },
          "metadata": {
            "tags": [],
            "needs_background": "light"
          }
        }
      ]
    },
    {
      "cell_type": "markdown",
      "metadata": {
        "id": "dAX7khb56Jel"
      },
      "source": [
        "#### (4) Correlation = -0.77"
      ]
    },
    {
      "cell_type": "code",
      "metadata": {
        "id": "NqaCLfMT6Jem"
      },
      "source": [
        "# Enter your Symbulate code here.  Feel free to add cells as needed."
      ],
      "execution_count": null,
      "outputs": []
    },
    {
      "cell_type": "code",
      "metadata": {
        "id": "0KCCQ81T9YPB",
        "outputId": "403038e5-1dff-42a1-a9bb-dc93d0643d64",
        "colab": {
          "base_uri": "https://localhost:8080/",
          "height": 282
        }
      },
      "source": [
        "rho = -0.77\n",
        "\n",
        "X, Y = RV(BivariateNormal(mean1 = 527, sd1 = 107, mean2 = 533, sd2 = 100, corr = rho))\n",
        "\n",
        "W = X - Y\n",
        "\n",
        "w = W.sim(10000)\n",
        "\n",
        "w.plot()\n",
        "\n",
        "w.mean(), w.var(), w.sd()"
      ],
      "execution_count": null,
      "outputs": [
        {
          "output_type": "execute_result",
          "data": {
            "text/plain": [
              "(-7.6847519043299926, 38288.953280593756, 195.67563282277575)"
            ]
          },
          "metadata": {
            "tags": []
          },
          "execution_count": 48
        },
        {
          "output_type": "display_data",
          "data": {
            "image/png": "[encoded data removed]",
            "text/plain": [
              "<Figure size 432x288 with 1 Axes>"
            ]
          },
          "metadata": {
            "tags": [],
            "needs_background": "light"
          }
        }
      ]
    },
    {
      "cell_type": "markdown",
      "metadata": {
        "id": "lYfFfy2D6Jeo"
      },
      "source": [
        "#### (5) Write a few sentences summarizing what you observe.  Describe the general shape of the distribution of $T$.  How does correlation affect the long run average and SD of $W = X - Y$?"
      ]
    },
    {
      "cell_type": "markdown",
      "metadata": {
        "id": "mINfysk66Jeq"
      },
      "source": [
        "**TYPE YOUR RESPONSE HERE**"
      ]
    },
    {
      "cell_type": "markdown",
      "metadata": {
        "id": "S0Qn8uiaBbsr"
      },
      "source": [
        "In each case\n",
        "\n",
        "- Shape is Normal\n",
        "- Mean is the difference of the means of X and Y\n",
        "\n",
        "But the variance and SD change based on the cases\n",
        "\n",
        "- When correlation is 0, the variance of X - Y is the *sum* of the variances\n",
        "- When correlation is positive, the variance of X - Y is less than the *sum* of the variances\n",
        "- When correlation is negative, the variance of X - Y is greater than the *sum* of the variances"
      ]
    },
    {
      "cell_type": "markdown",
      "metadata": {
        "id": "9x-9bHbx6Jer"
      },
      "source": [
        "### c) Larger score: $V = \\max(X, Y)$\n",
        "\n",
        "For each of the following scenarios\n",
        "\n",
        "1. Simulate many values of $V = \\max(X, Y)$ and plot them\n",
        "1. Approximate the long run average of $V$.  How does it relate to the long run averages of $X$ and $Y$? (Just comment generally)\n",
        "1. Approximate the variance of $V$.  How does it relate to the variances of $X$ and $Y$?  (Just comment generally)\n",
        "1. Approximate the SD of $V$.  How does it relate to  the SDs of $X$ and $Y$?  (Just comment generally)"
      ]
    },
    {
      "cell_type": "markdown",
      "metadata": {
        "id": "4kHsp7-O6Jer"
      },
      "source": [
        "#### (1) Correlation = 0"
      ]
    },
    {
      "cell_type": "code",
      "metadata": {
        "id": "Npjtn6Nq6Jes"
      },
      "source": [
        "# Enter your Symbulate code here.  Feel free to add cells as needed."
      ],
      "execution_count": null,
      "outputs": []
    },
    {
      "cell_type": "code",
      "metadata": {
        "id": "X0vCPIhQAe3o",
        "outputId": "4038cffc-8fb1-4626-c7d3-c7d0cb7f73e5",
        "colab": {
          "base_uri": "https://localhost:8080/",
          "height": 282
        }
      },
      "source": [
        "rho = 0\n",
        "\n",
        "X, Y = RV(BivariateNormal(mean1 = 527, sd1 = 107, mean2 = 533, sd2 = 100, corr = rho))\n",
        "\n",
        "V = (X & Y).apply(max)\n",
        "\n",
        "v = V.sim(10000)\n",
        "\n",
        "v.plot()\n",
        "\n",
        "v.mean(), v.var(), v.sd()"
      ],
      "execution_count": null,
      "outputs": [
        {
          "output_type": "execute_result",
          "data": {
            "text/plain": [
              "(588.1081559535021, 7385.909634789069, 85.94131506318175)"
            ]
          },
          "metadata": {
            "tags": []
          },
          "execution_count": 50
        },
        {
          "output_type": "display_data",
          "data": {
            "image/png": "[encoded data removed]",
            "text/plain": [
              "<Figure size 432x288 with 1 Axes>"
            ]
          },
          "metadata": {
            "tags": [],
            "needs_background": "light"
          }
        }
      ]
    },
    {
      "cell_type": "markdown",
      "metadata": {
        "id": "1tpEpFR06Jeu"
      },
      "source": [
        "#### (2) Correlation = 0.77"
      ]
    },
    {
      "cell_type": "code",
      "metadata": {
        "id": "BTNW8faO6Jev"
      },
      "source": [
        "# Enter your Symbulate code here.  Feel free to add cells as needed."
      ],
      "execution_count": null,
      "outputs": []
    },
    {
      "cell_type": "code",
      "metadata": {
        "id": "DCgbJzvhArR1",
        "outputId": "3ac95474-a9de-4e04-d29e-93b49c844cb0",
        "colab": {
          "base_uri": "https://localhost:8080/",
          "height": 282
        }
      },
      "source": [
        "rho = 0.77\n",
        "\n",
        "X, Y = RV(BivariateNormal(mean1 = 527, sd1 = 107, mean2 = 533, sd2 = 100, corr = rho))\n",
        "\n",
        "V = (X & Y).apply(max)\n",
        "\n",
        "v = V.sim(10000)\n",
        "\n",
        "v.plot()\n",
        "\n",
        "v.mean(), v.var(), v.sd()"
      ],
      "execution_count": null,
      "outputs": [
        {
          "output_type": "execute_result",
          "data": {
            "text/plain": [
              "(558.0414309436907, 9787.843426257483, 98.93353034364782)"
            ]
          },
          "metadata": {
            "tags": []
          },
          "execution_count": 52
        },
        {
          "output_type": "display_data",
          "data": {
            "image/png": "[encoded data removed]",
            "text/plain": [
              "<Figure size 432x288 with 1 Axes>"
            ]
          },
          "metadata": {
            "tags": [],
            "needs_background": "light"
          }
        }
      ]
    },
    {
      "cell_type": "markdown",
      "metadata": {
        "id": "ieLo0Nbe6Jex"
      },
      "source": [
        "#### (3) Correlation = 0.40"
      ]
    },
    {
      "cell_type": "code",
      "metadata": {
        "id": "kr-ZL1JT6Jey"
      },
      "source": [
        "# Enter your Symbulate code here.  Feel free to add cells as needed."
      ],
      "execution_count": null,
      "outputs": []
    },
    {
      "cell_type": "code",
      "metadata": {
        "id": "I-eTO8-KAwGP",
        "outputId": "79b09539-4bd8-4104-8053-1086053b92ef",
        "colab": {
          "base_uri": "https://localhost:8080/",
          "height": 282
        }
      },
      "source": [
        "rho = 0.40\n",
        "\n",
        "X, Y = RV(BivariateNormal(mean1 = 527, sd1 = 107, mean2 = 533, sd2 = 100, corr = rho))\n",
        "\n",
        "V = (X & Y).apply(max)\n",
        "\n",
        "v = V.sim(10000)\n",
        "\n",
        "v.plot()\n",
        "\n",
        "v.mean(), v.var(), v.sd()"
      ],
      "execution_count": null,
      "outputs": [
        {
          "output_type": "execute_result",
          "data": {
            "text/plain": [
              "(575.9762543632605, 8836.93494123702, 94.00497296014196)"
            ]
          },
          "metadata": {
            "tags": []
          },
          "execution_count": 54
        },
        {
          "output_type": "display_data",
          "data": {
            "image/png": "[encoded data removed]",
            "text/plain": [
              "<Figure size 432x288 with 1 Axes>"
            ]
          },
          "metadata": {
            "tags": [],
            "needs_background": "light"
          }
        }
      ]
    },
    {
      "cell_type": "markdown",
      "metadata": {
        "id": "MmhFRuyF6Je0"
      },
      "source": [
        "#### (4) Correlation = -0.77"
      ]
    },
    {
      "cell_type": "code",
      "metadata": {
        "id": "UdUyCZ9B6Je0"
      },
      "source": [
        "# Enter your Symbulate code here.  Feel free to add cells as needed."
      ],
      "execution_count": null,
      "outputs": []
    },
    {
      "cell_type": "code",
      "metadata": {
        "id": "aeZWBBkUA0CL",
        "outputId": "84912024-3e03-4122-a1ec-20ee14d98b1c",
        "colab": {
          "base_uri": "https://localhost:8080/",
          "height": 282
        }
      },
      "source": [
        "rho = -0.77\n",
        "\n",
        "X, Y = RV(BivariateNormal(mean1 = 527, sd1 = 107, mean2 = 533, sd2 = 100, corr = rho))\n",
        "\n",
        "V = (X & Y).apply(max)\n",
        "\n",
        "v = V.sim(10000)\n",
        "\n",
        "v.plot()\n",
        "\n",
        "v.mean(), v.var(), v.sd()"
      ],
      "execution_count": null,
      "outputs": [
        {
          "output_type": "execute_result",
          "data": {
            "text/plain": [
              "(608.3479108219569, 4625.999687738633, 68.01470199698468)"
            ]
          },
          "metadata": {
            "tags": []
          },
          "execution_count": 56
        },
        {
          "output_type": "display_data",
          "data": {
            "image/png": "[encoded data removed]",
            "text/plain": [
              "<Figure size 432x288 with 1 Axes>"
            ]
          },
          "metadata": {
            "tags": [],
            "needs_background": "light"
          }
        }
      ]
    },
    {
      "cell_type": "markdown",
      "metadata": {
        "id": "LR_Atz_U6Je3"
      },
      "source": [
        "#### (5) Write a few sentences summarizing what you observe.  Describe the general shape of the distribution of $T$.  How does correlation affect the long run average and SD of $V = \\max(X, Y)$?"
      ]
    },
    {
      "cell_type": "markdown",
      "metadata": {
        "id": "WlfcbZktClJ2"
      },
      "source": [
        "The patterns are less obvious here.  In some of the cases, it looks like the shape is relatively Normal, but not for a correlation of -0.77.  Also note that the mean of the max is  greater than the max of the two means, and the mean of the max increases as the correlation moves from 1 to -1.  But the variance decreases as the correlation moves from 1 to -1.\n"
      ]
    },
    {
      "cell_type": "markdown",
      "metadata": {
        "id": "M6xv55fl6Je4"
      },
      "source": [
        "## Submission Instructions\n",
        "\n",
        "- After you have completed the notebook, select **Runtime > Run all**\n",
        "- After the notebook finishes rerunning check to make sure that you have no errors and everything runs properly.  Fix any problems and redo this step until it works.\n",
        "    - Careful: there is a bug and sometimes 2-d histograms throw errors.  The plot works fine, it just triggers an error for some reason.  Unfortunately, that might stop your notebook from running.  So if you use 2-d histograms, pay special attention to this step.\n",
        "- Make sure you typed the names of any partners at the top of the notebook where it says \"Type your names here\".\n",
        "- Click Share in the top right and share with stat305cp@gmail.com \n",
        "- Save a PDF version: File > Print > Save as PDF\n",
        "- Download the notebook: File > Download .ipynb\n",
        "- Submit the notebook and PDF in Canvas.  Remember, only one submission per team.  (Either partner can submit; put the names of the partners in the comments.)"
      ]
    },
    {
      "cell_type": "code",
      "metadata": {
        "id": "l1yPVQHJ6Je4"
      },
      "source": [
        ""
      ],
      "execution_count": null,
      "outputs": []
    }
  ]
}